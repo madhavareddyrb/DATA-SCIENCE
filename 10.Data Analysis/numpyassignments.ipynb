{
 "cells": [
  {
   "cell_type": "markdown",
   "metadata": {},
   "source": [
    "### Module: NumPy Assignments\n",
    "#### Lesson: NumPy\n",
    "##### Assignment 1: Array Creation and Manipulation\n",
    "\n",
    "1. Create a NumPy array of shape (5, 5) filled with random integers between 1 and 20. Replace all the elements in the third column with 1.\n"
   ]
  },
  {
   "cell_type": "code",
   "execution_count": 2,
   "metadata": {},
   "outputs": [],
   "source": [
    "import numpy as np"
   ]
  },
  {
   "cell_type": "code",
   "execution_count": 29,
   "id": "0eddf03a",
   "metadata": {},
   "outputs": [
    {
     "name": "stdout",
     "output_type": "stream",
     "text": [
      "original array \n",
      " [[17 19 12  8  2]\n",
      " [ 2 10 10 16 16]\n",
      " [ 9  5  2 17  1]\n",
      " [15 12  8 17  3]\n",
      " [ 7  5  7  6 15]]\n",
      "modified array \n",
      " [[17 19  1  8  2]\n",
      " [ 2 10  1 16 16]\n",
      " [ 9  5  1 17  1]\n",
      " [15 12  1 17  3]\n",
      " [ 7  5  1  6 15]]\n"
     ]
    }
   ],
   "source": [
    "#arr = np.array([[1,2,3,4,5],[2,3,4,18,19],[5,6,7,19,1],[8,9,1,19,10],[18,9,1,10,2]])\n",
    "arr =np.random.randint(1,21, size=(5,5))\n",
    "print(f'original array \\n {arr}')\n",
    "arr[0:,2] = 1\n",
    "print(f'modified array \\n {arr}')"
   ]
  },
  {
   "cell_type": "markdown",
   "id": "769cdda4",
   "metadata": {},
   "source": [
    "2. Create a NumPy array of shape (4, 4) with values from 1 to 16. Replace the diagonal elements with 0."
   ]
  },
  {
   "cell_type": "code",
   "execution_count": 31,
   "id": "66cb4df3",
   "metadata": {},
   "outputs": [
    {
     "name": "stdout",
     "output_type": "stream",
     "text": [
      "Original array \n",
      " [[ 1  2  3  4]\n",
      " [ 5  6  7  8]\n",
      " [ 9 10 11 12]\n",
      " [13 14 15 16]]\n",
      "modified array is \n",
      " [[ 0  2  3  4]\n",
      " [ 5  0  7  8]\n",
      " [ 9 10  0 12]\n",
      " [13 14 15  0]]\n"
     ]
    }
   ],
   "source": [
    "'''arr1 = np.array([[1,2,3,4],[5,6,7,8],[9,10,11,12],[13,14,15,16]])\n",
    "print(arr1.shape)\n",
    "\n",
    "print(np.eye(4))'''\n",
    "arr = np.arange(1,17).reshape(4,4)\n",
    "print(f\"Original array \\n {arr}\")\n",
    "np.fill_diagonal(arr,0)\n",
    "print(f'modified array is \\n {arr}')"
   ]
  },
  {
   "cell_type": "markdown",
   "id": "050a74fa",
   "metadata": {},
   "source": [
    "##### Assignment 2: Array Indexing and Slicing\n",
    "1. Create a NumPy array of shape (6, 6) with values from 1 to 36. Extract the sub-array consisting of the 3rd to 5th rows and 2nd to 4th columns."
   ]
  },
  {
   "cell_type": "code",
   "execution_count": 5,
   "id": "ff673ba6",
   "metadata": {},
   "outputs": [
    {
     "name": "stdout",
     "output_type": "stream",
     "text": [
      "[[26 19 28 23 29 22]\n",
      " [ 8  8  5 33 12  1]\n",
      " [29  9 29 27 12 19]\n",
      " [22 34 16 18  2 18]\n",
      " [12  8 25 15 20  5]\n",
      " [31 34  3 30 12 17]]\n",
      "[[ 9 29 27]\n",
      " [34 16 18]\n",
      " [ 8 25 15]]\n"
     ]
    }
   ],
   "source": [
    "arr = np.random.randint(1,36, size = (6,6))\n",
    "print(arr)\n",
    "\n",
    "print(arr[2:5,1:4])\n"
   ]
  },
  {
   "cell_type": "markdown",
   "id": "8fadf4f4",
   "metadata": {},
   "source": [
    "2. Create a NumPy array of shape (5, 5) with random integers. Extract the elements on the border."
   ]
  },
  {
   "cell_type": "code",
   "execution_count": null,
   "id": "af1b30a3",
   "metadata": {},
   "outputs": [
    {
     "name": "stdout",
     "output_type": "stream",
     "text": [
      "[[92 66 39 56 90]\n",
      " [50 93 51 34 58]\n",
      " [35 93 60  8 96]\n",
      " [ 9 76 38 91 89]\n",
      " [41 50 73 57  2]]\n",
      "[92 66 39 56 90 41 50 73 57  2 50 35  9 58 96 89]\n"
     ]
    }
   ],
   "source": [
    "arr = np.random.randint(1,21,size=(5,5))\n",
    "print(arr)\n",
    "#arr[:1],arr[-1:],arr[1:,0],arr[:,-1]\n",
    "border_array = np.concatenate((arr[0,:],arr[-1,:],arr[1:-1,0],arr[1:-1,-1]))\n",
    "print(border_array)"
   ]
  },
  {
   "cell_type": "markdown",
   "id": "40000852",
   "metadata": {},
   "source": [
    "#### Assignment 3: Array Operations\n",
    "1. Create two NumPy arrays of shape (3, 4) filled with random integers. Perform element-wise addition, subtraction, multiplication, and division."
   ]
  },
  {
   "cell_type": "code",
   "execution_count": 7,
   "id": "d3f0d5d6",
   "metadata": {},
   "outputs": [
    {
     "name": "stdout",
     "output_type": "stream",
     "text": [
      "arr1:\n",
      " [[18  2 10 15]\n",
      " [16 12 21 11]\n",
      " [15 19 13 19]]\n",
      "arr2:\n",
      " [[18 10 20 22]\n",
      " [12 15 22  8]\n",
      " [18 17 13 10]]\n",
      "addition:\n",
      " [[36 12 30 37]\n",
      " [28 27 43 19]\n",
      " [33 36 26 29]]\n",
      "subtraction:\n",
      " [[  0  -8 -10  -7]\n",
      " [  4  -3  -1   3]\n",
      " [ -3   2   0   9]]\n",
      "multiplication\n",
      " [[324  20 200 330]\n",
      " [192 180 462  88]\n",
      " [270 323 169 190]]\n",
      "division:\n",
      " [[1.         0.2        0.5        0.68181818]\n",
      " [1.33333333 0.8        0.95454545 1.375     ]\n",
      " [0.83333333 1.11764706 1.         1.9       ]]\n"
     ]
    }
   ],
   "source": [
    "arr1 = np.random.randint(1,25,size=(3,4))\n",
    "arr2 = np.random.randint(1,25,size=(3,4))\n",
    "print('arr1:\\n',arr1)\n",
    "print('arr2:\\n',arr2)\n",
    "\n",
    "#addition\n",
    "\n",
    "print('addition:\\n',arr1+arr2)\n",
    "\n",
    "#subtraction\n",
    "print('subtraction:\\n',arr1-arr2)\n",
    "\n",
    "#multiplication\n",
    "print('multiplication\\n',arr1*arr2)\n",
    "\n",
    "#division\n",
    "print('division:\\n',arr1/arr2)"
   ]
  },
  {
   "cell_type": "markdown",
   "id": "894dae11",
   "metadata": {},
   "source": [
    "2. Create a NumPy array of shape (4, 4) with values from 1 to 16. Compute the row-wise and column-wise sum."
   ]
  },
  {
   "cell_type": "code",
   "execution_count": null,
   "id": "15a13254",
   "metadata": {},
   "outputs": [
    {
     "name": "stdout",
     "output_type": "stream",
     "text": [
      "[[2 2 5 4]\n",
      " [7 7 8 3]\n",
      " [4 5 3 8]\n",
      " [8 2 5 6]]\n",
      "row wise sum \n",
      " [13 25 20 21]\n",
      "column wise sum \n",
      " [21 16 21 21]\n"
     ]
    }
   ],
   "source": [
    "arr = np.random.randint(1,16,size=(4,4))\n",
    "print(arr)\n",
    "\n",
    "#row wise\n",
    "row_wise = np.sum(arr,axis=1)\n",
    "print(f\"row wise sum \\n {row_wise}\")\n",
    "\n",
    "#column wise\n",
    "column_wise = np.sum(arr,axis=0)\n",
    "print(f\"column wise sum \\n {column_wise}\")"
   ]
  },
  {
   "cell_type": "markdown",
   "id": "d042d586",
   "metadata": {},
   "source": [
    "### Assignment 4: Statistical Operations\n",
    "\n",
    "1. Create a NumPy array of shape (5, 5) filled with random integers. Compute the mean, median, standard deviation, and variance of the array."
   ]
  },
  {
   "cell_type": "code",
   "execution_count": 34,
   "id": "0e011735",
   "metadata": {},
   "outputs": [
    {
     "name": "stdout",
     "output_type": "stream",
     "text": [
      "[[19  1 16 18 10]\n",
      " [16  3 12  1 17]\n",
      " [16  5 14 14 15]\n",
      " [17  2 14  9 18]\n",
      " [ 4  8  2  7 10]]\n",
      "mean:10.72\n",
      "median:12.0\n",
      "standard deviation:5.976754972390955\n",
      "variance: 35.7216\n"
     ]
    }
   ],
   "source": [
    "arr4 = np.random.randint(1,21,size=(5,5)) # must match the elements so better use random int\n",
    "print(arr4)\n",
    "\n",
    "mean_value = print(f\"mean:{np.mean(arr4)}\")\n",
    "median_value =  print(f\"median:{np.median(arr4)}\")\n",
    "standard_deviation = print(f\"standard deviation:{np.std(arr4)}\")\n",
    "variane_value = print(f\"variance: {np.var(arr4)}\")"
   ]
  },
  {
   "cell_type": "markdown",
   "id": "024b3061",
   "metadata": {},
   "source": [
    "2. Create a NumPy array of shape (3, 3) with values from 1 to 9. Normalize the array (i.e., scale the values to have a mean of 0 and a standard deviation of 1).\n"
   ]
  },
  {
   "cell_type": "code",
   "execution_count": 10,
   "id": "4d8fe094",
   "metadata": {},
   "outputs": [
    {
     "name": "stdout",
     "output_type": "stream",
     "text": [
      "Original array: \n",
      " [[3 3 6]\n",
      " [9 6 8]\n",
      " [1 5 1]]\n",
      "[[-0.61545745 -0.61545745  0.49236596]\n",
      " [ 1.60018938  0.49236596  1.23091491]\n",
      " [-1.3540064   0.12309149 -1.3540064 ]]\n"
     ]
    }
   ],
   "source": [
    "arr5 = np.random.randint(1,10,size = (3,3))\n",
    "print(f\"Original array: \\n {arr5}\")\n",
    "mean_value = np.mean(arr5)\n",
    "standard_deviation = np.std(arr5)\n",
    "noralize_data = (arr5 - mean_value) / standard_deviation\n",
    "print(noralize_data)"
   ]
  },
  {
   "cell_type": "markdown",
   "id": "42bdaaf8",
   "metadata": {},
   "source": [
    "### Assignment 5: Broadcasting\n",
    "\n",
    "1. Create a NumPy array of shape (3, 3) filled with random integers. Add a 1D array of shape (3,) to each row of the 2D array using broadcasting."
   ]
  },
  {
   "cell_type": "code",
   "execution_count": 11,
   "id": "4e3bbe59",
   "metadata": {},
   "outputs": [
    {
     "name": "stdout",
     "output_type": "stream",
     "text": [
      "original array: \n",
      " [[4 3 9]\n",
      " [1 5 4]\n",
      " [3 4 7]]\n",
      "1D array is :\n",
      " [4 6 9]\n",
      "Final Array:\n",
      " [[ 8  9 18]\n",
      " [ 5 11 13]\n",
      " [ 7 10 16]]\n"
     ]
    }
   ],
   "source": [
    "arr_2d = np.random.randint(1,10,size=(3,3))\n",
    "print(f\"original array: \\n {arr_2d}\")\n",
    "arr_1D = np.random.randint(1,10,size=(3,))\n",
    "print(f\"1D array is :\\n {arr_1D}\")\n",
    "\n",
    "adding = arr_2d+arr_1D\n",
    "print(f\"Final Array:\\n {adding}\")"
   ]
  },
  {
   "cell_type": "markdown",
   "id": "7511cce3",
   "metadata": {},
   "source": [
    "2. Create a NumPy array of shape (4, 4) filled with random integers. Subtract a 1D array of shape (4,) from each column of the 2D array using broadcasting."
   ]
  },
  {
   "cell_type": "code",
   "execution_count": 35,
   "id": "fab2e94a",
   "metadata": {},
   "outputs": [
    {
     "name": "stdout",
     "output_type": "stream",
     "text": [
      "Original arr_2d: \n",
      "[[11  7 12  3]\n",
      " [ 8 14  8  7]\n",
      " [ 3  1  2  5]\n",
      " [ 3  7 13  7]]\n",
      "Original arr_1D is \n",
      " [ 9  3  8 13]\n",
      "subtractng result:\n",
      " [[  2  -2   3  -6]\n",
      " [  5  11   5   4]\n",
      " [ -5  -7  -6  -3]\n",
      " [-10  -6   0  -6]]\n"
     ]
    }
   ],
   "source": [
    "arr_2D = np.random.randint(1,17,size = (4,4))\n",
    "print(f'Original arr_2d: \\n{arr_2D}')\n",
    "arr_1D = np.random.randint(1,17,size=(4,))\n",
    "print(f\"Original arr_1D is \\n {arr_1D}\")\n",
    "\n",
    "sub = arr_2D - arr_1D[:, np.newaxis]\n",
    "print(f'subtractng result:\\n {sub}')"
   ]
  },
  {
   "cell_type": "markdown",
   "id": "63085912",
   "metadata": {},
   "source": [
    "### Assignment 6: Linear Algebra\n",
    "\n",
    "1. Create a NumPy array of shape (3, 3) representing a matrix. Compute its determinant, inverse, and eigenvalues.\n"
   ]
  },
  {
   "cell_type": "code",
   "execution_count": 40,
   "id": "0bfc99a1",
   "metadata": {},
   "outputs": [
    {
     "name": "stdout",
     "output_type": "stream",
     "text": [
      "Original matrix is \n",
      " [[3 8 5]\n",
      " [7 6 5]\n",
      " [3 2 7]]\n",
      "Determinant:  -195.99999999999991\n",
      "Inverse Matrix: \n",
      " [[-0.16326531  0.23469388 -0.05102041]\n",
      " [ 0.17346939 -0.03061224 -0.10204082]\n",
      " [ 0.02040816 -0.09183673  0.19387755]]\n",
      "EigeValues:\n",
      "  [15.14555151 -3.19542867  4.04987716]\n"
     ]
    }
   ],
   "source": [
    "matrix = np.random.randint(1,11,size=(3,3))\n",
    "print(f\"Original matrix is \\n {matrix}\")\n",
    "\n",
    "# compute the determinant\n",
    "determinant = np.linalg.det(matrix)\n",
    "print(\"Determinant: \", determinant)\n",
    "\n",
    "# compute the inverse\n",
    "inverse = np.linalg.inv(matrix)\n",
    "print(\"Inverse Matrix: \\n\",inverse)\n",
    "\n",
    "# compute the eigenvalues\n",
    "eigenValues = np.linalg.eigvals(matrix)\n",
    "print(\"EigeValues:\\n \",eigenValues)"
   ]
  },
  {
   "cell_type": "markdown",
   "id": "e0a23a47",
   "metadata": {},
   "source": [
    "2. Create two NumPy arrays of shape (2, 3) and (3, 2). Perform matrix multiplication on these arrays."
   ]
  },
  {
   "cell_type": "code",
   "execution_count": 41,
   "id": "db8b58f6",
   "metadata": {},
   "outputs": [
    {
     "name": "stdout",
     "output_type": "stream",
     "text": [
      "Array 1: \n",
      " [[7 1 2]\n",
      " [7 9 7]]\n",
      "Array 2: \n",
      "  [[ 9  1]\n",
      " [ 7 10]\n",
      " [ 8  4]]\n",
      "Matrix Multiplication result: \n",
      " [[ 86  25]\n",
      " [182 125]]\n"
     ]
    }
   ],
   "source": [
    "array1 = np.random.randint(1,11, size=(2,3))\n",
    "array2 = np.random.randint(1,11, size=(3,2))\n",
    "print(\"Array 1: \\n\",array1)\n",
    "print(\"Array 2: \\n \",array2)\n",
    "\n",
    "# perform matrix multiplication\n",
    "result = np.dot(array1,array2)\n",
    "print(\"Matrix Multiplication result: \\n\",result)"
   ]
  },
  {
   "cell_type": "markdown",
   "id": "9c4e94ad",
   "metadata": {},
   "source": [
    "### Assignment 7: Advanced Array Manipulation\n",
    "\n",
    "1. Create a NumPy array of shape (3, 3) with values from 1 to 9. Reshape the array to shape (1, 9) and then to shape (9, 1).\n"
   ]
  },
  {
   "cell_type": "code",
   "execution_count": 13,
   "id": "c5d82e6e",
   "metadata": {},
   "outputs": [
    {
     "name": "stdout",
     "output_type": "stream",
     "text": [
      "[[2 3 8]\n",
      " [2 7 6]\n",
      " [1 6 9]]\n",
      "[[2 3 8 2 7 6 1 6 9]]\n",
      "[[2]\n",
      " [3]\n",
      " [8]\n",
      " [2]\n",
      " [7]\n",
      " [6]\n",
      " [1]\n",
      " [6]\n",
      " [9]]\n"
     ]
    }
   ],
   "source": [
    "arrShape3 = np.random.randint(1,10, size =(3,3))\n",
    "print(arrShape3)\n",
    "arrshape1to9=arrShape3.reshape(1,9)\n",
    "print(arrshape1to9)\n",
    "\n",
    "print(arrshape1to9.reshape(9,1))\n",
    "\n"
   ]
  },
  {
   "cell_type": "markdown",
   "id": "5126ea18",
   "metadata": {},
   "source": [
    "2. Create a NumPy array of shape (5, 5) filled with random integers. Flatten the array and then reshape it back to (5, 5)."
   ]
  },
  {
   "cell_type": "code",
   "execution_count": 42,
   "id": "57a28ad8",
   "metadata": {},
   "outputs": [
    {
     "name": "stdout",
     "output_type": "stream",
     "text": [
      "original array :\n",
      " [[ 2 18 24 13 16]\n",
      " [12 17 20 15  3]\n",
      " [ 3 20  6 17  3]\n",
      " [23 12  6  3 23]\n",
      " [ 9 18 21 10 10]]\n",
      "flatten array : \n",
      " [ 2 18 24 13 16 12 17 20 15  3  3 20  6 17  3 23 12  6  3 23  9 18 21 10\n",
      " 10]\n",
      "Again reshape to original : \n",
      " [[ 2 18 24 13 16]\n",
      " [12 17 20 15  3]\n",
      " [ 3 20  6 17  3]\n",
      " [23 12  6  3 23]\n",
      " [ 9 18 21 10 10]]\n"
     ]
    }
   ],
   "source": [
    "arrs = np.random.randint(1,25,size=(5,5))\n",
    "print(f\"original array :\\n {arrs}\")\n",
    "\n",
    "flattenarr = arrs.flatten()\n",
    "print(f'flatten array : \\n {flattenarr}')\n",
    "\n",
    "againReshape = flattenarr.reshape(5,5)\n",
    "print(f\"Again reshape to original : \\n {againReshape}\")\n",
    "\n"
   ]
  },
  {
   "cell_type": "markdown",
   "id": "208ceca6",
   "metadata": {},
   "source": [
    "### Assignment 8: Fancy Indexing and Boolean Indexing\n",
    "\n",
    "1. Create a NumPy array of shape (5, 5) filled with random integers. Use fancy indexing to extract the elements at the corners of the array.\n"
   ]
  },
  {
   "cell_type": "code",
   "execution_count": 43,
   "id": "7d4ef1ea",
   "metadata": {},
   "outputs": [
    {
     "name": "stdout",
     "output_type": "stream",
     "text": [
      "original array:\n",
      "[[ 9 12 12  6  9]\n",
      " [16 18  4  3 17]\n",
      " [ 3  7  8  8 13]\n",
      " [ 6  3 16 18 18]\n",
      " [ 1 13  9  7  5]]\n",
      "Corners Elements:  [9 9 1 5]\n"
     ]
    }
   ],
   "source": [
    "array = np.random.randint(1,21, size=(5,5))\n",
    "print(f\"original array:\")\n",
    "print(array)\n",
    "\n",
    "# using fancy indexing to extract the elements at the corners of the array\n",
    "corners = array[[0,0,-1,-1],[0,-1,0,-1]]\n",
    "print(\"Corners Elements: \" , corners)"
   ]
  },
  {
   "cell_type": "markdown",
   "id": "5513d19b",
   "metadata": {},
   "source": [
    "2. Create a NumPy array of shape (4, 4) filled with random integers. Use boolean indexing to set all elements greater than 10 to 10."
   ]
  },
  {
   "cell_type": "code",
   "execution_count": null,
   "id": "a16b972c",
   "metadata": {},
   "outputs": [],
   "source": []
  },
  {
   "cell_type": "code",
   "execution_count": null,
   "id": "22a5a971",
   "metadata": {},
   "outputs": [],
   "source": []
  },
  {
   "cell_type": "code",
   "execution_count": null,
   "id": "ac4202f1",
   "metadata": {},
   "outputs": [],
   "source": []
  },
  {
   "cell_type": "code",
   "execution_count": null,
   "id": "600ccd14",
   "metadata": {},
   "outputs": [],
   "source": []
  },
  {
   "cell_type": "code",
   "execution_count": null,
   "id": "ef79e125",
   "metadata": {},
   "outputs": [],
   "source": []
  },
  {
   "cell_type": "code",
   "execution_count": null,
   "id": "f2df117d",
   "metadata": {},
   "outputs": [],
   "source": []
  },
  {
   "cell_type": "code",
   "execution_count": null,
   "id": "af53812f",
   "metadata": {},
   "outputs": [],
   "source": []
  },
  {
   "cell_type": "code",
   "execution_count": null,
   "id": "0965d806",
   "metadata": {},
   "outputs": [],
   "source": []
  }
 ],
 "metadata": {
  "kernelspec": {
   "display_name": "datasciencevenv (3.13.5)",
   "language": "python",
   "name": "python3"
  },
  "language_info": {
   "codemirror_mode": {
    "name": "ipython",
    "version": 3
   },
   "file_extension": ".py",
   "mimetype": "text/x-python",
   "name": "python",
   "nbconvert_exporter": "python",
   "pygments_lexer": "ipython3",
   "version": "3.13.5"
  }
 },
 "nbformat": 4,
 "nbformat_minor": 5
}
