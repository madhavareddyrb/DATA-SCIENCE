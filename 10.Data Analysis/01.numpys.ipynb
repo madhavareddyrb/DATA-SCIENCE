{
 "cells": [
  {
   "cell_type": "code",
   "execution_count": 8,
   "id": "a8381d7d",
   "metadata": {},
   "outputs": [],
   "source": [
    "import numpy as np"
   ]
  },
  {
   "cell_type": "code",
   "execution_count": 9,
   "id": "85a963d3",
   "metadata": {},
   "outputs": [
    {
     "name": "stdout",
     "output_type": "stream",
     "text": [
      "[ 1  2  3 45]\n",
      "<class 'numpy.ndarray'>\n",
      "(4,)\n"
     ]
    }
   ],
   "source": [
    "#Single array 1D\n",
    "arr1 = np.array([1,2,3,45,])\n",
    "print(arr1)\n",
    "print(type(arr1)) \n",
    "print(arr1.shape) # (4,0) 4 rows and 0 columns"
   ]
  },
  {
   "cell_type": "code",
   "execution_count": 10,
   "id": "7255ae52",
   "metadata": {},
   "outputs": [
    {
     "data": {
      "text/plain": [
       "array([[ 1,  2,  3, 45]])"
      ]
     },
     "execution_count": 10,
     "metadata": {},
     "output_type": "execute_result"
    }
   ],
   "source": [
    "arr1.reshape(1,4)"
   ]
  },
  {
   "cell_type": "code",
   "execution_count": 11,
   "id": "e5d5a870",
   "metadata": {},
   "outputs": [
    {
     "name": "stdout",
     "output_type": "stream",
     "text": [
      "[[ 1  2  3  4  5]\n",
      " [ 6  7  8  9 10]]\n",
      "(2, 5)\n"
     ]
    }
   ],
   "source": [
    "#2D array \n",
    "arr2 = np.array([[1,2,3,4,5],[6,7,8,9,10]])\n",
    "print(arr2)\n",
    "print(arr2.shape) # one row 5 columns"
   ]
  },
  {
   "cell_type": "code",
   "execution_count": 12,
   "id": "b12e96ca",
   "metadata": {},
   "outputs": [
    {
     "name": "stdout",
     "output_type": "stream",
     "text": [
      "[0 2 4 6 8]\n"
     ]
    },
    {
     "data": {
      "text/plain": [
       "array([[0],\n",
       "       [2],\n",
       "       [4],\n",
       "       [6],\n",
       "       [8]])"
      ]
     },
     "execution_count": 12,
     "metadata": {},
     "output_type": "execute_result"
    }
   ],
   "source": [
    "print(np.arange(0,10,2))\n",
    "np.arange(0,10,2).reshape(5,1)\n"
   ]
  },
  {
   "cell_type": "code",
   "execution_count": 13,
   "id": "99fd953a",
   "metadata": {},
   "outputs": [
    {
     "data": {
      "text/plain": [
       "array([[1., 1., 1., 1.],\n",
       "       [1., 1., 1., 1.],\n",
       "       [1., 1., 1., 1.]])"
      ]
     },
     "execution_count": 13,
     "metadata": {},
     "output_type": "execute_result"
    }
   ],
   "source": [
    "np.ones((3,4))"
   ]
  },
  {
   "cell_type": "code",
   "execution_count": 15,
   "id": "03b52bec",
   "metadata": {},
   "outputs": [
    {
     "data": {
      "text/plain": [
       "array([[0., 0., 0.],\n",
       "       [0., 0., 0.],\n",
       "       [0., 0., 0.],\n",
       "       [0., 0., 0.],\n",
       "       [0., 0., 0.]])"
      ]
     },
     "execution_count": 15,
     "metadata": {},
     "output_type": "execute_result"
    }
   ],
   "source": [
    "np.zeros((5,3))"
   ]
  },
  {
   "cell_type": "code",
   "execution_count": null,
   "id": "07109ef6",
   "metadata": {},
   "outputs": [
    {
     "data": {
      "text/plain": [
       "array([[1., 0., 0.],\n",
       "       [0., 1., 0.],\n",
       "       [0., 0., 1.]])"
      ]
     },
     "execution_count": 16,
     "metadata": {},
     "output_type": "execute_result"
    }
   ],
   "source": [
    "#identity matrix\n",
    "np.eye(3) # prints all diagonals as 1"
   ]
  },
  {
   "cell_type": "code",
   "execution_count": null,
   "id": "c5c20e74",
   "metadata": {},
   "outputs": [
    {
     "name": "stdout",
     "output_type": "stream",
     "text": [
      "[[1 2 3]\n",
      " [4 5 6]]\n",
      "(2, 3)\n",
      "2\n",
      "6\n",
      "int64\n",
      "8\n"
     ]
    }
   ],
   "source": [
    "#attributes of numpy and array\n",
    "\n",
    "arr = np.array([[1,2,3],[4,5,6,]])\n",
    "print(arr)\n",
    "print(arr.shape)\n",
    "print(arr.ndim) # dimention of array 2D,1D like that\n",
    "print(arr.size) # size no of elements\n",
    "print(arr.dtype) # based on system configuration\n",
    "print(arr.itemsize) #item size in bytes"
   ]
  },
  {
   "cell_type": "code",
   "execution_count": 21,
   "id": "8286a2f4",
   "metadata": {},
   "outputs": [
    {
     "name": "stdout",
     "output_type": "stream",
     "text": [
      "addition:  [11 22 33 44 55]\n",
      "substraction:  [ -9 -18 -27 -36 -45]\n",
      "multiplication:  [ 10  40  90 160 250]\n",
      "division:  [0.1 0.1 0.1 0.1 0.1]\n"
     ]
    }
   ],
   "source": [
    "#numpy vectorized operation\n",
    "\n",
    "arr1 = np.array([1,2,3,4,5])\n",
    "arr2 = np.array([10,20,30,40,50])\n",
    "\n",
    "#element wise addition\n",
    "print(\"addition: \",arr1+arr2)\n",
    "\n",
    "#element wise substraction\n",
    "print('substraction: ',arr1-arr2)\n",
    "\n",
    "#element wise multiplication\n",
    "print(\"multiplication: \",arr1*arr2)\n",
    "\n",
    "#element wise division\n",
    "print(\"division: \", arr1/arr2)"
   ]
  },
  {
   "cell_type": "code",
   "execution_count": 23,
   "id": "e420d04d",
   "metadata": {},
   "outputs": [
    {
     "name": "stdout",
     "output_type": "stream",
     "text": [
      "[1.41421356 1.73205081 2.         2.23606798 2.44948974]\n",
      "[  7.3890561   20.08553692  54.59815003 148.4131591  403.42879349]\n",
      "[ 0.90929743  0.14112001 -0.7568025  -0.95892427 -0.2794155 ]\n",
      "[0.69314718 1.09861229 1.38629436 1.60943791 1.79175947]\n"
     ]
    }
   ],
   "source": [
    "#Universal Functions\n",
    "\n",
    "arr = np.array([2,3,4,5,6])\n",
    "\n",
    "#square root\n",
    "print(np.sqrt(arr))\n",
    "\n",
    "#exponensional\n",
    "print(np.exp(arr))\n",
    "\n",
    "#sin of array\n",
    "print(np.sin(arr))\n",
    "\n",
    "#log of array\n",
    "print(np.log(arr))"
   ]
  },
  {
   "cell_type": "code",
   "execution_count": 24,
   "id": "f5e67865",
   "metadata": {},
   "outputs": [
    {
     "name": "stdout",
     "output_type": "stream",
     "text": [
      "[[ 1  2  3  4]\n",
      " [ 5  6  7  8]\n",
      " [ 9 10 11 12]]\n"
     ]
    }
   ],
   "source": [
    "# array slicing\n",
    "\n",
    "arr = np.array([[1,2,3,4],[5,6,7,8],[9,10,11,12]])\n",
    "print(arr)"
   ]
  },
  {
   "cell_type": "code",
   "execution_count": 27,
   "id": "8d711f2d",
   "metadata": {},
   "outputs": [
    {
     "name": "stdout",
     "output_type": "stream",
     "text": [
      "[1 2 3 4]\n",
      "1\n"
     ]
    }
   ],
   "source": [
    "#how can we access 1 from 1st row\n",
    "print(arr[0])\n",
    "print(arr[0][0])"
   ]
  },
  {
   "cell_type": "code",
   "execution_count": 29,
   "id": "dd2e9d29",
   "metadata": {},
   "outputs": [
    {
     "name": "stdout",
     "output_type": "stream",
     "text": [
      "12\n",
      "12\n"
     ]
    }
   ],
   "source": [
    "#how can we access 12 from row 3\n",
    "print(arr[2][3])\n",
    "print(arr[2,3])"
   ]
  },
  {
   "cell_type": "code",
   "execution_count": 31,
   "id": "65473407",
   "metadata": {},
   "outputs": [
    {
     "name": "stdout",
     "output_type": "stream",
     "text": [
      "[[ 7  8]\n",
      " [11 12]]\n"
     ]
    }
   ],
   "source": [
    "# how can we access 7,8 from row 2 and 11,12 from row 3\n",
    "print(arr[1:,2:])"
   ]
  },
  {
   "cell_type": "code",
   "execution_count": null,
   "id": "74ff9d66",
   "metadata": {},
   "outputs": [
    {
     "name": "stdout",
     "output_type": "stream",
     "text": [
      "[[  1 100   3   4]\n",
      " [  5   6   7  80]\n",
      " [  9  10  11  12]]\n"
     ]
    }
   ],
   "source": [
    "#replace values\n",
    "arr[0,1] = 100\n",
    "arr[1,3] = 80\n",
    "print(arr)"
   ]
  },
  {
   "cell_type": "code",
   "execution_count": 37,
   "id": "cf8ad9a5",
   "metadata": {},
   "outputs": [
    {
     "name": "stdout",
     "output_type": "stream",
     "text": [
      "normalized data:  [-1.41421356 -0.70710678  0.          0.70710678  1.41421356]\n"
     ]
    }
   ],
   "source": [
    "# statistical concepts - normalization\n",
    "# to have a mean of 0 and stand deviation of 1\n",
    "\n",
    "data = np.array([1,2,3,4,5])\n",
    "\n",
    "#calculate mean\n",
    "mean = np.mean(data)\n",
    "#calculate standard deviation\n",
    "std_dev = np.std(data)\n",
    "\n",
    "#normalize the data\n",
    "\n",
    "normalized_data = (data-mean)/std_dev\n",
    "print('normalized data: ',normalized_data)\n"
   ]
  },
  {
   "cell_type": "code",
   "execution_count": 39,
   "id": "ba686035",
   "metadata": {},
   "outputs": [
    {
     "name": "stdout",
     "output_type": "stream",
     "text": [
      "mean: 5.0\n",
      "median: 5.0\n",
      "standard deviation: 2.581988897471611\n",
      "Variance: 6.666666666666667\n"
     ]
    }
   ],
   "source": [
    "data = np.array([1,2,3,4,5,6,7,8,9])\n",
    "\n",
    "#mean\n",
    "mean = np.mean(data)\n",
    "print('mean:',mean)\n",
    "\n",
    "#median\n",
    "median = np.median(data)\n",
    "print('median:',median)\n",
    "\n",
    "#Standar deviation\n",
    "std_dev = np.std(data)\n",
    "print(\"standard deviation:\",std_dev)\n",
    "\n",
    "#variance\n",
    "variance = np.var(data)\n",
    "print(\"Variance:\",variance)"
   ]
  },
  {
   "cell_type": "code",
   "execution_count": 43,
   "id": "9483d8e7",
   "metadata": {},
   "outputs": [
    {
     "name": "stdout",
     "output_type": "stream",
     "text": [
      "[False False False False False  True  True  True  True]\n",
      "[ True  True  True  True False False False False False]\n",
      "[False False False False  True  True  True  True False]\n"
     ]
    }
   ],
   "source": [
    "#Logical Operation\n",
    "\n",
    "data = np.array([1,2,3,4,5,6,7,8,9])\n",
    "\n",
    "print(data>5)\n",
    "print(data<5)\n",
    "print((data>=5) & (data<=8))"
   ]
  },
  {
   "cell_type": "code",
   "execution_count": 45,
   "id": "37386ce3",
   "metadata": {},
   "outputs": [
    {
     "name": "stdout",
     "output_type": "stream",
     "text": [
      "[False False False False False  True  True  True  True]\n"
     ]
    }
   ],
   "source": [
    "print((data>5) | (data>10))"
   ]
  },
  {
   "cell_type": "code",
   "execution_count": null,
   "id": "5e1ce732",
   "metadata": {},
   "outputs": [],
   "source": []
  }
 ],
 "metadata": {
  "kernelspec": {
   "display_name": "datasciencevenv",
   "language": "python",
   "name": "python3"
  },
  "language_info": {
   "codemirror_mode": {
    "name": "ipython",
    "version": 3
   },
   "file_extension": ".py",
   "mimetype": "text/x-python",
   "name": "python",
   "nbconvert_exporter": "python",
   "pygments_lexer": "ipython3",
   "version": "3.13.5"
  }
 },
 "nbformat": 4,
 "nbformat_minor": 5
}
