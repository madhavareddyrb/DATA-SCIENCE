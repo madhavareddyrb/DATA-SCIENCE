{
 "cells": [
  {
   "cell_type": "markdown",
   "id": "f7fdefa8",
   "metadata": {},
   "source": [
    "#### Understanding Exceptions\n",
    "\n",
    "Exception handling in Python allows you to handle errors gracefully and take corrective actions without stopping the execution of the program. This lesson will cover the basics of exceptions, including how to use try, except, else, and finally blocks.\n",
    "\n",
    "##### What Are Exceptions?\n",
    "Exceptions are events that disrupt the normal flow of a program. They occur when an error is encountered during program execution. Common exceptions include:\n",
    "\n",
    "- ZeroDivisionError: Dividing by zero.\n",
    "- FileNotFoundError: File not found.\n",
    "- ValueError: Invalid value.\n",
    "- TypeError: Invalid type."
   ]
  },
  {
   "cell_type": "code",
   "execution_count": 1,
   "id": "67a5cca7",
   "metadata": {},
   "outputs": [
    {
     "ename": "NameError",
     "evalue": "name 'b' is not defined",
     "output_type": "error",
     "traceback": [
      "\u001b[31m---------------------------------------------------------------------------\u001b[39m",
      "\u001b[31mNameError\u001b[39m                                 Traceback (most recent call last)",
      "\u001b[36mCell\u001b[39m\u001b[36m \u001b[39m\u001b[32mIn[1]\u001b[39m\u001b[32m, line 1\u001b[39m\n\u001b[32m----> \u001b[39m\u001b[32m1\u001b[39m a = \u001b[43mb\u001b[49m\n",
      "\u001b[31mNameError\u001b[39m: name 'b' is not defined"
     ]
    }
   ],
   "source": [
    "a = b"
   ]
  },
  {
   "cell_type": "code",
   "execution_count": 2,
   "id": "33b1a56e",
   "metadata": {},
   "outputs": [
    {
     "name": "stdout",
     "output_type": "stream",
     "text": [
      "the variabe is not defined\n"
     ]
    }
   ],
   "source": [
    "# handle exception with try,except using custom error\n",
    "try:\n",
    "  a=b\n",
    "except:\n",
    "  print('the variabe is not defined')"
   ]
  },
  {
   "cell_type": "code",
   "execution_count": 3,
   "id": "d9b89779",
   "metadata": {},
   "outputs": [
    {
     "name": "stdout",
     "output_type": "stream",
     "text": [
      "name 'b' is not defined\n"
     ]
    }
   ],
   "source": [
    "# handle nameerror using NameError try,except\n",
    "try:\n",
    "  a = b\n",
    "except NameError as ex:\n",
    "  print(ex)"
   ]
  },
  {
   "cell_type": "code",
   "execution_count": 8,
   "metadata": {},
   "outputs": [
    {
     "name": "stdout",
     "output_type": "stream",
     "text": [
      "division by zero\n",
      "Please enter num value greater than 0\n"
     ]
    }
   ],
   "source": [
    "# zerodivision error\n",
    "try:\n",
    "  num = int(input())\n",
    "  result = 10/num\n",
    "except ZeroDivisionError as ex:\n",
    "  print(ex)\n",
    "  print(\"Please enter num value greater than 0\")"
   ]
  },
  {
   "cell_type": "code",
   "execution_count": 17,
   "id": "bf474d1b",
   "metadata": {},
   "outputs": [
    {
     "name": "stdout",
     "output_type": "stream",
     "text": [
      "name 'b' is not defined\n"
     ]
    }
   ],
   "source": [
    "# writing 2 excption handling\n",
    "try:\n",
    "  num = int(input())\n",
    "  result = 10/num\n",
    "  a = b\n",
    "except ZeroDivisionError as ex:\n",
    "  print(ex)\n",
    "except NameError as ex1:\n",
    "  print(ex1)\n",
    "  "
   ]
  },
  {
   "cell_type": "code",
   "execution_count": 21,
   "id": "12c15898",
   "metadata": {},
   "outputs": [
    {
     "name": "stdout",
     "output_type": "stream",
     "text": [
      "division by zero\n"
     ]
    }
   ],
   "source": [
    "# using main Exception for any kind of exception handlings it will excute when excution fails\n",
    "\n",
    "try:\n",
    "  num = int(input())\n",
    "  result = 10 / num\n",
    "  a = c\n",
    "except ZeroDivisionError as ex:\n",
    "  print(ex)\n",
    "except NameError as ex1 :\n",
    "  print(ex1)\n",
    "except Exception as mainExcep:\n",
    "  print(mainExcep)"
   ]
  },
  {
   "cell_type": "code",
   "execution_count": 24,
   "metadata": {},
   "outputs": [
    {
     "name": "stdout",
     "output_type": "stream",
     "text": [
      "Please enter vaild number\n"
     ]
    }
   ],
   "source": [
    "# try,except,else block and how to print output\n",
    "try:\n",
    "  num = int(input())\n",
    "  result = 10 / num\n",
    "except ValueError:\n",
    "  print(\"Please enter vaild number\")\n",
    "except ZeroDivisionError:\n",
    "  print('Please enter greater than 0')\n",
    "except Exception as ex:\n",
    "  print(ex)\n",
    "else:\n",
    "  print(f\"the result is {result}\")"
   ]
  },
  {
   "cell_type": "code",
   "execution_count": 28,
   "metadata": {},
   "outputs": [
    {
     "name": "stdout",
     "output_type": "stream",
     "text": [
      "the result is 1.1111111111111112\n",
      "Exception Completed\n"
     ]
    }
   ],
   "source": [
    "## finally: it will excute to end Exception completed\n",
    "# try,except,else block and how to print output\n",
    "try:\n",
    "  num = int(input())\n",
    "  result = 10 / num\n",
    "except ValueError:\n",
    "  print(\"Please enter vaild number\")\n",
    "except ZeroDivisionError:\n",
    "  print('Please enter greater than 0')\n",
    "except Exception as ex:\n",
    "  print(ex)\n",
    "else:\n",
    "  print(f\"the result is {result}\")\n",
    "finally:\n",
    "  print('Exception Completed')\n"
   ]
  },
  {
   "cell_type": "code",
   "execution_count": 38,
   "metadata": {},
   "outputs": [
    {
     "name": "stdout",
     "output_type": "stream",
     "text": [
      "hi\n",
      "name\n",
      "\n",
      "file closed\n"
     ]
    }
   ],
   "source": [
    "# file handing and exception handling\n",
    "try:\n",
    "  file = open('example.txt','r')\n",
    "  content = file.read()\n",
    "  print(content)\n",
    "\n",
    "except FileNotFoundError:\n",
    "  print(\"The file does not exists\")\n",
    "except Exception as ex:\n",
    "  print(ex)\n",
    "\n",
    "finally:\n",
    "  if 'file' in locals() or not file.closed():\n",
    "    file.close()\n",
    "    print('file closed')\n",
    "    \n"
   ]
  },
  {
   "cell_type": "code",
   "execution_count": 35,
   "id": "1bc169f1",
   "metadata": {},
   "outputs": [
    {
     "name": "stdout",
     "output_type": "stream",
     "text": [
      "True\n"
     ]
    }
   ],
   "source": [
    "if 'file' in locals():\n",
    "  print(True)"
   ]
  },
  {
   "cell_type": "code",
   "execution_count": 37,
   "id": "684025aa",
   "metadata": {},
   "outputs": [
    {
     "ename": "TypeError",
     "evalue": "'bool' object is not callable",
     "output_type": "error",
     "traceback": [
      "\u001b[31m---------------------------------------------------------------------------\u001b[39m",
      "\u001b[31mTypeError\u001b[39m                                 Traceback (most recent call last)",
      "\u001b[36mCell\u001b[39m\u001b[36m \u001b[39m\u001b[32mIn[37]\u001b[39m\u001b[32m, line 1\u001b[39m\n\u001b[32m----> \u001b[39m\u001b[32m1\u001b[39m \u001b[38;5;129;01mnot\u001b[39;00m \u001b[43mfile\u001b[49m\u001b[43m.\u001b[49m\u001b[43mclosed\u001b[49m\u001b[43m(\u001b[49m\u001b[43m)\u001b[49m\n",
      "\u001b[31mTypeError\u001b[39m: 'bool' object is not callable"
     ]
    }
   ],
   "source": [
    "not file.closed()"
   ]
  },
  {
   "cell_type": "code",
   "execution_count": null,
   "id": "a0cfce91",
   "metadata": {},
   "outputs": [],
   "source": []
  }
 ],
 "metadata": {
  "kernelspec": {
   "display_name": "datasciencevenv (3.13.5)",
   "language": "python",
   "name": "python3"
  },
  "language_info": {
   "codemirror_mode": {
    "name": "ipython",
    "version": 3
   },
   "file_extension": ".py",
   "mimetype": "text/x-python",
   "name": "python",
   "nbconvert_exporter": "python",
   "pygments_lexer": "ipython3",
   "version": "3.13.5"
  }
 },
 "nbformat": 4,
 "nbformat_minor": 5
}
