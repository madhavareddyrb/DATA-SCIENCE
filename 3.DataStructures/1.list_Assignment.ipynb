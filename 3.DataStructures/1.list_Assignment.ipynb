{
 "cells": [
  {
   "cell_type": "markdown",
   "metadata": {},
   "source": [
    "### Module 3: Data Structures Assignments\n",
    "#### Lesson 3.1: Lists\n",
    "\n",
    "#### Assignment 1: Creating and Accessing Lists\n",
    "Create a list of the first 20 positive integers. Print the list."
   ]
  },
  {
   "cell_type": "code",
   "execution_count": 1,
   "metadata": {},
   "outputs": [
    {
     "name": "stdout",
     "output_type": "stream",
     "text": [
      "<class 'list'>\n",
      "<class 'types.GenericAlias'>\n",
      "[1, 2, 3, 4, 5, 6, 7, 8, 9, 10, 11, 12, 13, 14, 15, 16, 17, 18, 19, 20]\n",
      "list[1, 2, 3, 4, 5, 6, 7, 8, 9, 10, 11, 12, 13, 14, 15, 16, 17, 18, 19, 20]\n",
      "\n",
      "[1, 2, 3, 4, 5, 6, 7, 8, 9, 10, 11, 12, 13, 14, 15, 16, 17, 18, 19, 20]\n"
     ]
    }
   ],
   "source": [
    "Numbers = [1,2,3,4,5,6,7,8,9,10,11,12,13,14,15,16,17,18,19,20]\n",
    "\n",
    "creating_list_using_listof = list[1,2,3,4,5,6,7,8,9,10,11,12,13,14,15,16,17,18,19,20]\n",
    "print(type(Numbers))\n",
    "print(type(creating_list_using_listof))\n",
    "print(Numbers)\n",
    "print(creating_list_using_listof)\n",
    "print()\n",
    "num = list(range(1,21))\n",
    "print(num)"
   ]
  },
  {
   "cell_type": "markdown",
   "id": "bee92fe9",
   "metadata": {},
   "source": [
    "### Assignment 2: Accessing List Elements\n",
    "\n",
    "Print the first, middle, and last elements of the list created in Assignment 1."
   ]
  },
  {
   "cell_type": "code",
   "execution_count": 2,
   "id": "0a643568",
   "metadata": {},
   "outputs": [
    {
     "name": "stdout",
     "output_type": "stream",
     "text": [
      "1\n",
      "11\n",
      "20\n"
     ]
    }
   ],
   "source": [
    "print(Numbers[0])\n",
    "print(Numbers[len(Numbers)//2])\n",
    "print(Numbers[-1])"
   ]
  },
  {
   "cell_type": "markdown",
   "id": "2032b13e",
   "metadata": {},
   "source": [
    "### Assignment 3: List Slicing\n",
    "\n",
    "Print the first five elements, the last five elements, and the elements from index 5 to 15 of the list created in Assignment 1."
   ]
  },
  {
   "cell_type": "code",
   "execution_count": 3,
   "id": "63de40a3",
   "metadata": {},
   "outputs": [
    {
     "name": "stdout",
     "output_type": "stream",
     "text": [
      "[1, 2, 3, 4, 5]\n",
      "[16, 17, 18, 19, 20]\n",
      "[6, 7, 8, 9, 10, 11, 12, 13, 14, 15, 16]\n"
     ]
    }
   ],
   "source": [
    "print(Numbers[0:5])\n",
    "print(Numbers[-5:])\n",
    "print(Numbers[5:16])"
   ]
  },
  {
   "cell_type": "markdown",
   "id": "97e3d129",
   "metadata": {},
   "source": [
    "### Assignment 4: List Comprehensions\n",
    "\n",
    "Create a new list containing the squares of the first 10 positive integers using a list comprehension. Print the new list."
   ]
  },
  {
   "cell_type": "code",
   "execution_count": 4,
   "id": "408911c8",
   "metadata": {},
   "outputs": [
    {
     "name": "stdout",
     "output_type": "stream",
     "text": [
      "[1, 4, 9, 16, 25, 36, 49, 64, 81, 100]\n"
     ]
    }
   ],
   "source": [
    "squareNumbers = [i**2 for i in range(1,11)]\n",
    "print(squareNumbers)"
   ]
  },
  {
   "cell_type": "markdown",
   "id": "90f75f71",
   "metadata": {},
   "source": [
    "### Assignment 5: Filtering Lists\n",
    "\n",
    "Create a new list containing only the even numbers from the list created in Assignment 1 using a list comprehension. Print the new list."
   ]
  },
  {
   "cell_type": "code",
   "execution_count": 5,
   "id": "9fd6ea9b",
   "metadata": {},
   "outputs": [
    {
     "name": "stdout",
     "output_type": "stream",
     "text": [
      "[2, 4, 6, 8, 10, 12, 14, 16, 18, 20]\n"
     ]
    }
   ],
   "source": [
    "even = (i for i in Numbers if i % 2 == 0)\n",
    "print(list(even))"
   ]
  },
  {
   "cell_type": "markdown",
   "id": "96032246",
   "metadata": {},
   "source": [
    "### Assignment 6: List Methods\n",
    "\n",
    "Create a list of random numbers and sort it in ascending and descending order. Remove the duplicates from the list and print the modified list."
   ]
  },
  {
   "cell_type": "code",
   "execution_count": 6,
   "id": "31d54950",
   "metadata": {},
   "outputs": [
    {
     "name": "stdout",
     "output_type": "stream",
     "text": [
      "[1, 10, 20, 30, 15, 17, 5, 5, 10]\n",
      "[1, 5, 5, 10, 10, 15, 17, 20, 30]\n",
      "[30, 20, 17, 15, 10, 10, 5, 5, 1]\n",
      "[1, 5, 10, 15, 17, 20, 30]\n"
     ]
    }
   ],
   "source": [
    "random_Numbers = [1,10,20,30,15,17,5,5,10]\n",
    "print(random_Numbers)\n",
    "print(sorted(random_Numbers))\n",
    "print(sorted(random_Numbers,reverse=True))\n",
    "remove_dupicate = list(set(random_Numbers))\n",
    "print(remove_dupicate)"
   ]
  },
  {
   "cell_type": "code",
   "execution_count": 7,
   "id": "6bc4b629",
   "metadata": {},
   "outputs": [
    {
     "name": "stdout",
     "output_type": "stream",
     "text": [
      "[1, 1, 2, 3, 4, 5, 6, 9]\n"
     ]
    }
   ],
   "source": [
    "random_Numbers = [3, 1, 4, 1, 5, 9, 2, 6]\n",
    "random_Numbers.sort()\n",
    "print(random_Numbers)"
   ]
  },
  {
   "cell_type": "markdown",
   "id": "b0d8f936",
   "metadata": {},
   "source": [
    "### Assignment 7: Nested Lists\n",
    "\n",
    "Create a nested list representing a 3x3 matrix and print the matrix. Access and print the element at the second row and third column."
   ]
  },
  {
   "cell_type": "code",
   "execution_count": 8,
   "id": "86efecd4",
   "metadata": {},
   "outputs": [
    {
     "name": "stdout",
     "output_type": "stream",
     "text": [
      "5\n"
     ]
    }
   ],
   "source": [
    "matrix = [[1,2],[3,5],[6,7]]\n",
    "sub = matrix[1]\n",
    "print(sub[1])"
   ]
  },
  {
   "cell_type": "markdown",
   "id": "2b429c0d",
   "metadata": {},
   "source": [
    "### Assignment 8: List of Dictionaries\n",
    "\n",
    "Create a list of dictionaries where each dictionary represents a student with keys 'name' and 'score'. Sort the list of dictionaries by the 'score' in descending order and print the sorted list."
   ]
  },
  {
   "cell_type": "code",
   "execution_count": 9,
   "id": "c2c23b17",
   "metadata": {},
   "outputs": [
    {
     "name": "stdout",
     "output_type": "stream",
     "text": [
      "sorted studentes by score in descending order\n",
      "{'name': 'Shiva', 'Score': 100}\n",
      "{'name': 'chakri', 'Score': 75}\n",
      "{'name': 'madhava', 'Score': 50}\n"
     ]
    }
   ],
   "source": [
    "students = [\n",
    "                {\"name\":\"madhava\",\"Score\":50,},\n",
    "                {\"name\":\"Shiva\",\"Score\":100},\n",
    "                {\"name\":\"chakri\",\"Score\":75}\n",
    "                ]\n",
    "sorted_students = sorted(students,key = lambda x : x['Score'] ,reverse=True)\n",
    "print(\"sorted studentes by score in descending order\")\n",
    "for student in sorted_students:\n",
    "  print(student)"
   ]
  },
  {
   "cell_type": "markdown",
   "id": "39a63cef",
   "metadata": {},
   "source": [
    "### Assignment 9: Matrix Transposition\n",
    "\n",
    "Write a function that takes a 3x3 matrix (nested list) as input and returns its transpose. Print the original and transposed matrices."
   ]
  },
  {
   "cell_type": "code",
   "execution_count": 10,
   "id": "5a7e771e",
   "metadata": {},
   "outputs": [
    {
     "name": "stdout",
     "output_type": "stream",
     "text": [
      "original Matrix:\n",
      "[1, 2, 3]\n",
      "[4, 5, 6]\n",
      "[7, 8, 9]\n",
      "Transpoed Matrix:\n",
      "[1, 4, 7]\n",
      "[2, 5, 8]\n",
      "[3, 6, 9]\n"
     ]
    }
   ],
   "source": [
    "def transposed_matrix(matrix):\n",
    "  transposed = [[matrix[i][j] for i in range(len(matrix))] for j in range(len(matrix[0]))]\n",
    "  return transposed\n",
    "matrix = [\n",
    "  [1,2,3],\n",
    "  [4,5,6],\n",
    "  [7,8,9]\n",
    "]\n",
    "transposed = transposed_matrix(matrix)\n",
    "print(\"original Matrix:\")\n",
    "for row in matrix:\n",
    "  print(row)\n",
    "print(\"Transpoed Matrix:\")\n",
    "for row in transposed:\n",
    "  print(row)\n"
   ]
  },
  {
   "cell_type": "markdown",
   "id": "3e66fe8e",
   "metadata": {},
   "source": [
    "### Assignment 10: Flattening a Nested List\n",
    "\n",
    "Write a function that takes a nested list and flattens it into a single list. Print the original and flattened lists."
   ]
  },
  {
   "cell_type": "code",
   "execution_count": 11,
   "id": "47c8af28",
   "metadata": {},
   "outputs": [
    {
     "name": "stdout",
     "output_type": "stream",
     "text": [
      "original list; \n",
      "[1, 2, 3]\n",
      "[4, 5, 6]\n",
      "[7, 8, 9]\n",
      " flatten list: [1, 2, 3, 4, 5, 6, 7, 8, 9]\n"
     ]
    }
   ],
   "source": [
    "def flatten(numbers):\n",
    "  flatten =[item for i in numbers for item in i]\n",
    "  return flatten\n",
    "\n",
    "numbers = [\n",
    "  [1,2,3],\n",
    "  [4,5,6],\n",
    "  [7,8,9]\n",
    "]\n",
    "\n",
    "flatten_list = flatten(numbers)\n",
    "print(\"original list; \")\n",
    "for row in numbers:\n",
    "  print(row)\n",
    "\n",
    "print(f\" flatten list: {flatten_list}\")\n"
   ]
  },
  {
   "cell_type": "markdown",
   "id": "6b5cc4cf",
   "metadata": {},
   "source": [
    "### Assignment 11: List Manipulation\n",
    "\n",
    "Create a list of the first 10 positive integers. Remove the elements at indices 2, 4, and 6, and insert the element '99' at index 5. Print the modified list."
   ]
  },
  {
   "cell_type": "code",
   "execution_count": 12,
   "id": "1ced8ed6",
   "metadata": {},
   "outputs": [
    {
     "name": "stdout",
     "output_type": "stream",
     "text": [
      "Original list: [1, 2, 3, 4, 5, 6, 7, 8, 9, 10]\n",
      "manipulation list: [1, 2, 4, 5, 7, 99, 8, 10]\n"
     ]
    }
   ],
   "source": [
    "lst = list(range(1, 11))\n",
    "print(f\"Original list: {lst}\")\n",
    "del lst[2]\n",
    "del lst[4]\n",
    "del lst[6]\n",
    "lst.insert(5,99)\n",
    "print(f\"manipulation list: {lst}\")"
   ]
  },
  {
   "cell_type": "markdown",
   "id": "882ca06d",
   "metadata": {},
   "source": [
    "### Assignment 12: List Zipping\n",
    "\n",
    "Create two lists of the same length. Use the `zip` function to combine these lists into a list of tuples and print the result."
   ]
  },
  {
   "cell_type": "code",
   "execution_count": 13,
   "id": "7bbb4fec",
   "metadata": {},
   "outputs": [
    {
     "name": "stdout",
     "output_type": "stream",
     "text": [
      "[(1, 6), (2, 7), (3, 8), (4, 9)]\n"
     ]
    }
   ],
   "source": [
    "lst1 = [1,2,3,4]\n",
    "lst2 = [6,7,8,9]\n",
    "ziped_lst = list(zip(lst1,lst2))\n",
    "print(ziped_lst)"
   ]
  },
  {
   "cell_type": "markdown",
   "id": "76a87adf",
   "metadata": {},
   "source": [
    "### Assignment 13: List Reversal\n",
    "\n",
    "Write a function that takes a list and returns a new list with the elements in reverse order. Print the original and reversed lists."
   ]
  },
  {
   "cell_type": "code",
   "execution_count": 14,
   "id": "fe15c047",
   "metadata": {},
   "outputs": [
    {
     "name": "stdout",
     "output_type": "stream",
     "text": [
      "original lsit: [1, 2, 3, 45, 6, 7, 8]\n",
      "reverse list: [8, 7, 6, 45, 3, 2, 1]\n",
      "using loops::\n",
      "[8, 7, 6, 45, 3, 2, 1]\n"
     ]
    }
   ],
   "source": [
    "def reverse_lst(lst):\n",
    "  return lst[::-1]\n",
    "\n",
    "lst = [1,2,3,45,6,7,8]\n",
    "print(f'original lsit: {lst}')\n",
    "print(f\"reverse list: {reverse_lst(lst)}\")\n",
    "\n",
    "\n",
    "print(\"using loops::\")\n",
    "\n",
    "lst3 = []\n",
    "for i in range(len(lst),0,-1):\n",
    "  lst3.append(lst[i-1])\n",
    "  \n",
    "print(lst3)"
   ]
  },
  {
   "cell_type": "markdown",
   "id": "d64c9730",
   "metadata": {},
   "source": [
    "### Assignment 14: List Rotation\n",
    "\n",
    "Write a function that rotates a list by n positions. Print the original and rotated lists."
   ]
  },
  {
   "cell_type": "code",
   "execution_count": 15,
   "id": "bffaff98",
   "metadata": {},
   "outputs": [
    {
     "name": "stdout",
     "output_type": "stream",
     "text": [
      "[1, 2, 3, 4, 5]\n",
      "[4, 4, 4, 4, 5, 5, 5, 5]\n"
     ]
    }
   ],
   "source": [
    "original_lst = [1,2,3,4,5]\n",
    "rotated_list = []\n",
    "n = 3\n",
    "for i in range(n,len(original_lst)):\n",
    "  rotated_list.append(original_lst[i])\n",
    "  for j in range(0,n):\n",
    "    rotated_list.append(original_lst[i])\n",
    "print(original_lst)\n",
    "print(rotated_list)"
   ]
  },
  {
   "cell_type": "code",
   "execution_count": 16,
   "id": "5a75c348",
   "metadata": {},
   "outputs": [
    {
     "name": "stdout",
     "output_type": "stream",
     "text": [
      "[1, 2, 3, 4, 5]\n",
      "[4, 5, 1, 2, 3]\n",
      "[10, 11, 12, 13, 14]\n",
      "[13, 14, 10, 11, 12]\n"
     ]
    }
   ],
   "source": [
    "original_lst = [1,2,3,4,5]\n",
    "rotated_list = []\n",
    "n = 3\n",
    "for i in range(n,len(original_lst)):\n",
    "  rotated_list.append(original_lst[i])\n",
    "for j in range(0,n):\n",
    "  rotated_list.append(original_lst[j])\n",
    "print(original_lst)\n",
    "print(rotated_list)\n",
    "\n",
    "\n",
    "\n",
    "def rotated_lst(lst,n):\n",
    "  return lst[n:] + lst[:n]\n",
    "lst = [10,11,12,13,14]\n",
    "n = 3\n",
    "print(lst)\n",
    "rotated = rotated_lst(lst,n)\n",
    "print(rotated)\n",
    "\n"
   ]
  },
  {
   "cell_type": "markdown",
   "id": "6255e7cd",
   "metadata": {},
   "source": [
    "### Assignment 15: List Intersection\n",
    "\n",
    "Write a function that takes two lists and returns a new list containing only the elements that are present in both lists. Print the intersected list."
   ]
  },
  {
   "cell_type": "code",
   "execution_count": 17,
   "id": "9659e5cc",
   "metadata": {},
   "outputs": [
    {
     "name": "stdout",
     "output_type": "stream",
     "text": [
      "[1, 3, 5]\n"
     ]
    }
   ],
   "source": [
    "def intersection(lst1,lst2):\n",
    " return [i for i in lst1 if i in lst2]\n",
    "\n",
    "lst1 = [1,2,3,4,5]\n",
    "lst2 = [3,5,1,23,45]\n",
    "intersection_list = intersection(lst1,lst2)\n",
    "print(intersection_list)"
   ]
  },
  {
   "cell_type": "code",
   "execution_count": null,
   "id": "f90380ca",
   "metadata": {},
   "outputs": [],
   "source": []
  }
 ],
 "metadata": {
  "kernelspec": {
   "display_name": "dataven",
   "language": "python",
   "name": "python3"
  },
  "language_info": {
   "codemirror_mode": {
    "name": "ipython",
    "version": 3
   },
   "file_extension": ".py",
   "mimetype": "text/x-python",
   "name": "python",
   "nbconvert_exporter": "python",
   "pygments_lexer": "ipython3",
   "version": "3.13.1"
  }
 },
 "nbformat": 4,
 "nbformat_minor": 5
}
