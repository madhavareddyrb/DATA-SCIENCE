{
 "cells": [
  {
   "cell_type": "markdown",
   "metadata": {},
   "source": [
    "### Module 3: Data Structures Assignments\n",
    "### Lesson 3.3: Sets\n",
    "#### Assignment 1: Creating and Accessing Sets\n",
    "\n",
    "Create a set with the first 10 positive integers. Print the set."
   ]
  },
  {
   "cell_type": "code",
   "execution_count": 57,
   "metadata": {},
   "outputs": [
    {
     "name": "stdout",
     "output_type": "stream",
     "text": [
      "{1, 2, 3, 4, 5, 6, 7, 8, 9, 10}\n"
     ]
    }
   ],
   "source": [
    "firstSet = set(list(range(1,11)))\n",
    "print(firstSet)"
   ]
  },
  {
   "cell_type": "markdown",
   "id": "96f1c0a4",
   "metadata": {},
   "source": [
    "### Assignment 2: Adding and Removing Elements\n",
    "\n",
    "Add the number 11 to the set created in Assignment 1. Then remove the number 1 from the set. Print the modified set."
   ]
  },
  {
   "cell_type": "code",
   "execution_count": 58,
   "id": "b8850093",
   "metadata": {},
   "outputs": [
    {
     "name": "stdout",
     "output_type": "stream",
     "text": [
      "{2, 3, 4, 5, 6, 7, 8, 9, 10, 11}\n"
     ]
    }
   ],
   "source": [
    "firstSet.add(11)  # adds at last\n",
    "firstSet.pop() # removes first element from set\n",
    "#firstSet.remove(1)\n",
    "print(firstSet)"
   ]
  },
  {
   "cell_type": "markdown",
   "id": "d652ddf8",
   "metadata": {},
   "source": [
    "### Assignment 3: Set Operations\n",
    "\n",
    "Create two sets: one with the first 5 positive integers and another with the first 5 even integers. Perform and print the results of union, intersection, difference, and symmetric difference operations on these sets."
   ]
  },
  {
   "cell_type": "code",
   "execution_count": 59,
   "id": "b088ebbd",
   "metadata": {},
   "outputs": [
    {
     "name": "stdout",
     "output_type": "stream",
     "text": [
      "{1, 2, 3, 4, 5, 6, 8, 10}\n",
      "{2, 4}\n",
      "{1, 3, 5}\n",
      "{8, 10, 6}\n",
      "{1, 3, 5, 6, 8, 10}\n"
     ]
    }
   ],
   "source": [
    "set1 = {1,2,3,4,5}\n",
    "set2 = {2,6,4,8,10}\n",
    "unionSet = set1.union(set2) # combines all unique data points to one set\n",
    "intersectionSet = set1.intersection(set2) # common values\n",
    "differenceSet1 = set1.difference(set2)  # different values from set1 \n",
    "differenceSet2 = set2.difference(set1)  # different values from set2\n",
    "symmetricdifferenceSet = set1.symmetric_difference(set2) # differnence values from both sets\n",
    "print(unionSet)\n",
    "print(intersectionSet)\n",
    "print(differenceSet1)\n",
    "print(differenceSet2)\n",
    "print(symmetricdifferenceSet)"
   ]
  },
  {
   "cell_type": "markdown",
   "id": "f1321b75",
   "metadata": {},
   "source": [
    "### Assignment 4: Set Comprehensions\n",
    "\n",
    "Create a new set containing the squares of the first 10 positive integers using a set comprehension. Print the new set."
   ]
  },
  {
   "cell_type": "code",
   "execution_count": 60,
   "id": "f3adb937",
   "metadata": {},
   "outputs": [
    {
     "name": "stdout",
     "output_type": "stream",
     "text": [
      "[1, 4, 9, 16, 25, 36, 49, 64, 81, 100]\n",
      "{64, 1, 4, 36, 100, 9, 16, 49, 81, 25}\n",
      "{64, 1, 4, 36, 100, 9, 16, 49, 81, 25}\n"
     ]
    }
   ],
   "source": [
    "empty_set = set()\n",
    "empty_set2 = set()\n",
    "for i in range(1,11):\n",
    "  empty_set.add(i**2)\n",
    "\n",
    "usingListComprehension = [j**2 for j in range(1,11)]\n",
    "print(usingListComprehension)\n",
    "print(set(usingListComprehension))\n",
    "\n",
    "print(empty_set)"
   ]
  },
  {
   "cell_type": "markdown",
   "id": "6f0284bc",
   "metadata": {},
   "source": [
    "### Assignment 5: Filtering Sets\n",
    "\n",
    "Create a new set containing only the even numbers from the set created in Assignment 1 using a set comprehension. Print the new set.\n"
   ]
  },
  {
   "cell_type": "code",
   "execution_count": 61,
   "id": "d485afb5",
   "metadata": {},
   "outputs": [
    {
     "name": "stdout",
     "output_type": "stream",
     "text": [
      "{2, 3, 4, 5, 6, 7, 8, 9, 10, 11}\n",
      "{2, 4, 6, 8, 10}\n"
     ]
    }
   ],
   "source": [
    "print(firstSet)\n",
    "evenSet = {i for i in firstSet if i % 2 == 0}\n",
    "print(evenSet)"
   ]
  },
  {
   "cell_type": "markdown",
   "id": "0ac71ca4",
   "metadata": {},
   "source": [
    "### Assignment 6: Set Methods\n",
    "\n",
    "Create a set with duplicate elements and remove the duplicates using set methods. Print the modified set."
   ]
  },
  {
   "cell_type": "code",
   "execution_count": 62,
   "id": "f7aef0dd",
   "metadata": {},
   "outputs": [
    {
     "name": "stdout",
     "output_type": "stream",
     "text": [
      "{1, 2, 3, 4, 5, 6, 40}\n",
      "{4, 5, 6, 40}\n"
     ]
    }
   ],
   "source": [
    "setDup = {1,2,3,4,5,6,1,2,3,40}\n",
    "set(setDup)\n",
    "print(setDup)\n",
    "\n",
    "setDup = {1,2,3,4,5,6,1,2,3,40}\n",
    "setDup.remove(1)\n",
    "setDup.remove(2)\n",
    "setDup.remove(3)\n",
    "print(setDup)\n"
   ]
  },
  {
   "cell_type": "markdown",
   "id": "ea801f82",
   "metadata": {},
   "source": [
    "### Assignment 7: Subsets and Supersets\n",
    "\n",
    "Create two sets: one with the first 5 positive integers and another with the first 3 positive integers. Check if the second set is a subset of the first set and if the first set is a superset of the second set. Print the results."
   ]
  },
  {
   "cell_type": "code",
   "execution_count": 63,
   "id": "367d328e",
   "metadata": {},
   "outputs": [
    {
     "name": "stdout",
     "output_type": "stream",
     "text": [
      "False\n",
      "True\n",
      "True\n",
      "False\n"
     ]
    }
   ],
   "source": [
    "set1 = {1,2,3,4,5}\n",
    "set2 = {1,2,3}\n",
    "subset1 = set1.issubset(set2)  # checks set1 is subset of set2(False)\n",
    "subset2 = set2.issubset(set1) # checks set2 is subset of set1 (True)\n",
    "\n",
    "supersetset1 = set1.issuperset(set2) # checks set1 is superset of set2 (True) is set1 a superset of set2?\n",
    "supersetset2 = set2.issuperset(set1) # checks set2 is superset of set1 (False)\n",
    "\n",
    "\n",
    "print(subset1)\n",
    "print(subset2)\n",
    "\n",
    "print(supersetset1)\n",
    "print(supersetset2)\n"
   ]
  },
  {
   "cell_type": "markdown",
   "id": "3791974b",
   "metadata": {},
   "source": [
    "### Assignment 8: Frozenset\n",
    "\n",
    "Create a frozenset with the first 5 positive integers. Print the frozenset."
   ]
  },
  {
   "cell_type": "code",
   "execution_count": 64,
   "id": "2eaea90d",
   "metadata": {},
   "outputs": [
    {
     "name": "stdout",
     "output_type": "stream",
     "text": [
      "frozenset({1, 2, 3, 4, 5})\n"
     ]
    }
   ],
   "source": [
    "numbers = {1,2,3,4,5}\n",
    "frozenNumbers = frozenset(numbers)\n",
    "print(frozenNumbers)\n"
   ]
  },
  {
   "cell_type": "markdown",
   "id": "f32cb841",
   "metadata": {},
   "source": [
    "### Assignment 9: Set and List Conversion\n",
    "\n",
    "Create a set with the first 5 positive integers. Convert it to a list, append the number 6, and convert it back to a set. Print the resulting set."
   ]
  },
  {
   "cell_type": "code",
   "execution_count": 65,
   "id": "57d5baf7",
   "metadata": {},
   "outputs": [
    {
     "name": "stdout",
     "output_type": "stream",
     "text": [
      "{1, 2, 3, 4, 5, 6}\n",
      "<class 'set'>\n"
     ]
    }
   ],
   "source": [
    "set4 = {1,2,3,4,5}\n",
    "convertingtolist = list(set4)\n",
    "convertingtolist.append(6)\n",
    "convertingtoset = set(convertingtolist)\n",
    "print(convertingtoset)\n",
    "print(type(convertingtoset))"
   ]
  },
  {
   "cell_type": "markdown",
   "id": "f7a282ca",
   "metadata": {},
   "source": [
    "### Assignment 10: Set and Dictionary\n",
    "\n",
    "Create a dictionary with set keys and integer values. Print the dictionary.\n"
   ]
  },
  {
   "cell_type": "code",
   "execution_count": null,
   "id": "cf90432b",
   "metadata": {},
   "outputs": [],
   "source": []
  },
  {
   "cell_type": "markdown",
   "id": "77f7029b",
   "metadata": {},
   "source": [
    "### Assignment 11: Iterating Over Sets\n",
    "\n",
    "Create a set and iterate over the elements, printing each element."
   ]
  },
  {
   "cell_type": "code",
   "execution_count": 66,
   "id": "57fce0ab",
   "metadata": {},
   "outputs": [
    {
     "name": "stdout",
     "output_type": "stream",
     "text": [
      "False\n",
      "1\n",
      "2\n",
      "madhava\n"
     ]
    }
   ],
   "source": [
    "setdata = {1,2,'madhava',True,False,True}\n",
    "for i in setdata:\n",
    "  print(i) # True is not going to print because True value is 1 set don't allow duplicates values"
   ]
  },
  {
   "cell_type": "markdown",
   "id": "b0069e1b",
   "metadata": {},
   "source": [
    "### Assignment 12: Removing Elements from Sets\n",
    "\n",
    "Create a set and remove elements from it until it is empty. Print the set after each removal."
   ]
  },
  {
   "cell_type": "code",
   "execution_count": 67,
   "id": "fe871c0a",
   "metadata": {},
   "outputs": [
    {
     "name": "stdout",
     "output_type": "stream",
     "text": [
      "{2, 3, 4, 5, 6}\n",
      "{3, 4, 5, 6}\n",
      "{4, 5, 6}\n",
      "{5, 6}\n",
      "{6}\n",
      "set()\n"
     ]
    },
    {
     "data": {
      "text/plain": [
       "'setnumbers.pop()\\nprint(setnumbers)\\nsetnumbers.pop()\\nprint(setnumbers)\\nsetnumbers.pop()\\nprint(setnumbers)\\nsetnumbers.pop()\\nprint(setnumbers)'"
      ]
     },
     "execution_count": 67,
     "metadata": {},
     "output_type": "execute_result"
    }
   ],
   "source": [
    "setnumbers = {1,2,3,4,5,6}\n",
    "while setnumbers:\n",
    "  setnumbers.pop()\n",
    "  print(setnumbers)\n",
    "\n",
    "\n",
    "\n",
    "'''setnumbers.pop()\n",
    "print(setnumbers)\n",
    "setnumbers.pop()\n",
    "print(setnumbers)\n",
    "setnumbers.pop()\n",
    "print(setnumbers)\n",
    "setnumbers.pop()\n",
    "print(setnumbers)'''\n",
    "\n",
    "\n"
   ]
  },
  {
   "cell_type": "markdown",
   "id": "d7ed80bf",
   "metadata": {},
   "source": [
    "### Assignment 13: Set Symmetric Difference Update\n",
    "\n",
    "Create two sets and update the first set with the symmetric difference of the two sets. Print the modified first set."
   ]
  },
  {
   "cell_type": "code",
   "execution_count": 68,
   "id": "31902403",
   "metadata": {},
   "outputs": [
    {
     "name": "stdout",
     "output_type": "stream",
     "text": [
      "{3, 4}\n"
     ]
    }
   ],
   "source": [
    "set1 = {1,2,3,4}\n",
    "set2 = {1,2}\n",
    "set1.symmetric_difference_update(set2)\n",
    "#set2.symmetric_difference_update(set1)\n",
    "print(set1)\n",
    "#print(set2)\n"
   ]
  },
  {
   "cell_type": "markdown",
   "id": "a24c9fd0",
   "metadata": {},
   "source": [
    "### Assignment 14: Set Membership Testing\n",
    "\n",
    "Create a set and test if certain elements are present in the set. Print the results."
   ]
  },
  {
   "cell_type": "code",
   "execution_count": 69,
   "id": "17c1735c",
   "metadata": {},
   "outputs": [
    {
     "name": "stdout",
     "output_type": "stream",
     "text": [
      "True\n",
      "False\n"
     ]
    },
    {
     "data": {
      "text/plain": [
       "'set1 = {1,2,34,5,67,37,19}\\nset2 = {28,36,1,2,34,37,19}\\nfor i in set1:\\n  for j in set2:\\n    if i == j :\\n      print(i)'"
      ]
     },
     "execution_count": 69,
     "metadata": {},
     "output_type": "execute_result"
    }
   ],
   "source": [
    "set1 = {1,2,34,5,67,37,19}\n",
    "print(2 in set1)\n",
    "print(4 in set1)\n",
    "\n",
    "\n",
    "'''set1 = {1,2,34,5,67,37,19}\n",
    "set2 = {28,36,1,2,34,37,19}\n",
    "for i in set1:\n",
    "  for j in set2:\n",
    "    if i == j :\n",
    "      print(i)'''\n",
    "\n"
   ]
  },
  {
   "cell_type": "markdown",
   "id": "f551b8d5",
   "metadata": {},
   "source": [
    "### Assignment 15: Set of Tuples\n",
    "\n",
    "Create a set containing tuples, where each tuple contains two elements. Print the set."
   ]
  },
  {
   "cell_type": "code",
   "execution_count": 70,
   "id": "53b57869",
   "metadata": {},
   "outputs": [
    {
     "data": {
      "text/plain": [
       "{(1, 2), (3, 4), (5, 6)}"
      ]
     },
     "execution_count": 70,
     "metadata": {},
     "output_type": "execute_result"
    }
   ],
   "source": [
    "setTuple = {(1,2),(3,4),(5,6)}\n",
    "setTuple"
   ]
  },
  {
   "cell_type": "code",
   "execution_count": null,
   "id": "12e911c1",
   "metadata": {},
   "outputs": [],
   "source": []
  }
 ],
 "metadata": {
  "kernelspec": {
   "display_name": "dataven",
   "language": "python",
   "name": "python3"
  },
  "language_info": {
   "codemirror_mode": {
    "name": "ipython",
    "version": 3
   },
   "file_extension": ".py",
   "mimetype": "text/x-python",
   "name": "python",
   "nbconvert_exporter": "python",
   "pygments_lexer": "ipython3",
   "version": "3.13.1"
  }
 },
 "nbformat": 4,
 "nbformat_minor": 5
}
