{
 "cells": [
  {
   "cell_type": "markdown",
   "id": "6cade624",
   "metadata": {},
   "source": [
    "# Module 3: Data Structures Assignments\n",
    "## Lesson 3.2: Tuples\n",
    "### Assignment 1: Creating and Accessing Tuples\n",
    "\n",
    "Create a tuple with the first 10 positive integers. Print the tuple."
   ]
  },
  {
   "cell_type": "code",
   "execution_count": null,
   "metadata": {},
   "outputs": [
    {
     "data": {
      "text/plain": [
       "(1, 2, 3, 4, 5, 6, 7, 8, 9, 10)"
      ]
     },
     "execution_count": 4,
     "metadata": {},
     "output_type": "execute_result"
    }
   ],
   "source": [
    "first_10 = tuple(list(range(1,11)))\n",
    "first_10"
   ]
  },
  {
   "cell_type": "markdown",
   "id": "5a13ee1e",
   "metadata": {},
   "source": [
    "### Assignment 2: Accessing Tuple Elements\n",
    "\n",
    "Print the first, middle, and last elements of the tuple created in Assignment 1."
   ]
  },
  {
   "cell_type": "code",
   "execution_count": 7,
   "id": "16b246a7",
   "metadata": {},
   "outputs": [
    {
     "name": "stdout",
     "output_type": "stream",
     "text": [
      "1\n",
      "6\n",
      "10\n"
     ]
    }
   ],
   "source": [
    "print(first_10[0])\n",
    "print(first_10[len(first_10)//2])\n",
    "print(first_10[-1])"
   ]
  },
  {
   "cell_type": "markdown",
   "id": "1b7db62d",
   "metadata": {},
   "source": [
    "### Assignment 3: Tuple Slicing\n",
    "\n",
    "Print the first three elements, the last three elements, and the elements from index 2 to 5 of the tuple created in Assignment 1."
   ]
  },
  {
   "cell_type": "code",
   "execution_count": 8,
   "id": "a8c9911b",
   "metadata": {},
   "outputs": [
    {
     "name": "stdout",
     "output_type": "stream",
     "text": [
      "(1, 2, 3)\n",
      "(8, 9, 10)\n",
      "(3, 4, 5, 6)\n"
     ]
    }
   ],
   "source": [
    "print(first_10[0:3])\n",
    "print(first_10[-3:])\n",
    "print(first_10[2:6])\n"
   ]
  },
  {
   "cell_type": "markdown",
   "id": "d0200aa6",
   "metadata": {},
   "source": [
    "### Assignment 4: Nested Tuples\n",
    "\n",
    "Create a nested tuple representing a 3x3 matrix and print the matrix. Access and print the element at the second row and third column."
   ]
  },
  {
   "cell_type": "code",
   "execution_count": null,
   "id": "7bbbfd7d",
   "metadata": {},
   "outputs": [
    {
     "name": "stdout",
     "output_type": "stream",
     "text": [
      "((1, 2, 3), (4, 5, 6), (7, 8, 9))\n",
      "6\n"
     ]
    }
   ],
   "source": [
    "matrix = (\n",
    "  (1,2,3),\n",
    "  (4,5,6),\n",
    "  (7,8,9)\n",
    ")\n",
    "\n",
    "print(matrix)\n",
    "print(matrix[1][2])\n",
    "\n"
   ]
  },
  {
   "cell_type": "markdown",
   "id": "acde4dd6",
   "metadata": {},
   "source": [
    "### Assignment 5: Tuple Concatenation\n",
    "\n",
    "Concatenate two tuples: (1, 2, 3) and (4, 5, 6). Print the resulting tuple.\n"
   ]
  },
  {
   "cell_type": "code",
   "execution_count": 30,
   "id": "f2240e16",
   "metadata": {},
   "outputs": [
    {
     "name": "stdout",
     "output_type": "stream",
     "text": [
      "(1, 2, 3, 4, 5, 6)\n"
     ]
    }
   ],
   "source": [
    "tuple1 = (1,2,3)\n",
    "tuple2 = (4,5,6)\n",
    "concatenatetuple = tuple1+tuple2\n",
    "print(concatenatetuple)"
   ]
  },
  {
   "cell_type": "markdown",
   "id": "7a38d06c",
   "metadata": {},
   "source": [
    "### Assignment 6: Tuple Methods\n",
    "\n",
    "Create a tuple with duplicate elements and count the occurrences of an element. Find the index of the first occurrence of an element in the tuple."
   ]
  },
  {
   "cell_type": "code",
   "execution_count": 38,
   "id": "79282f98",
   "metadata": {},
   "outputs": [
    {
     "name": "stdout",
     "output_type": "stream",
     "text": [
      "how many times 2 is repeated 3\n",
      "index value is 1\n"
     ]
    }
   ],
   "source": [
    "tupleData = (1,2,3,4,51,2,4,5,2)\n",
    "print(f'how many times 2 is repeated {tupleData.count(2)}')\n",
    "print(f\"index value is {tupleData.index(2)}\")\n"
   ]
  },
  {
   "cell_type": "markdown",
   "id": "33af7491",
   "metadata": {},
   "source": [
    "### Assignment 7: Unpacking Tuples\n",
    "\n",
    "Create a tuple with 5 elements and unpack it into 5 variables. Print the variables."
   ]
  },
  {
   "cell_type": "code",
   "execution_count": null,
   "id": "78303816",
   "metadata": {},
   "outputs": [
    {
     "name": "stdout",
     "output_type": "stream",
     "text": [
      "1 2 3 4 madhava cse\n"
     ]
    }
   ],
   "source": [
    "unpack = (1,2,3,4,'madhava','cse')\n",
    "a,b,c,d,e,f = unpack\n",
    "print(a,b,c,d,e,f)"
   ]
  },
  {
   "cell_type": "markdown",
   "id": "bb55de5d",
   "metadata": {},
   "source": [
    "### Assignment 8: Tuple Conversion\n",
    "\n",
    "Convert a list of the first 5 positive integers to a tuple. Print the tuple."
   ]
  },
  {
   "cell_type": "code",
   "execution_count": 43,
   "id": "6e590cee",
   "metadata": {},
   "outputs": [
    {
     "name": "stdout",
     "output_type": "stream",
     "text": [
      "<class 'list'>\n",
      "<class 'tuple'>\n",
      "(1, 2, 3, 4, 5, 6)\n"
     ]
    }
   ],
   "source": [
    "lst = [1,2,3,4,5]\n",
    "print(type(lst))\n",
    "covertingToTuple = tuple(lst)\n",
    "print(type(covertingToTuple))\n",
    "print(concatenatetuple)"
   ]
  },
  {
   "cell_type": "markdown",
   "id": "ae941226",
   "metadata": {},
   "source": [
    "### Assignment 9: Tuple of Tuples\n",
    "\n",
    "Create a tuple containing 3 tuples, each with 3 elements. Print the tuple of tuples."
   ]
  },
  {
   "cell_type": "code",
   "execution_count": 45,
   "id": "4cffaf59",
   "metadata": {},
   "outputs": [
    {
     "name": "stdout",
     "output_type": "stream",
     "text": [
      "(1, 2, 3)\n",
      "(4, 5, 6)\n",
      "(7, 8, 9)\n"
     ]
    }
   ],
   "source": [
    "tuples = ((1,2,3),(4,5,6),(7,8,9))\n",
    "print(tuples[0])\n",
    "print(tuples[1])\n",
    "print(tuples[2])"
   ]
  },
  {
   "cell_type": "markdown",
   "id": "1ff6ffee",
   "metadata": {},
   "source": [
    "### Assignment 10: Tuple and List\n",
    "\n",
    "Create a tuple with the first 5 positive integers. Convert it to a list, append the number 6, and convert it back to a tuple. Print the resulting tuple."
   ]
  },
  {
   "cell_type": "code",
   "execution_count": 47,
   "id": "0821e864",
   "metadata": {},
   "outputs": [
    {
     "name": "stdout",
     "output_type": "stream",
     "text": [
      "(1, 2, 3, 4, 5) and <class 'tuple'>\n",
      "[1, 2, 3, 4, 5] and <class 'list'>\n",
      "(1, 2, 3, 4, 5, 6)\n"
     ]
    }
   ],
   "source": [
    "firstTuple = (1,2,3,4,5)\n",
    "print(f\"{firstTuple} and {type(firstTuple)}\")\n",
    "convertingToList = list(firstTuple)\n",
    "print(f\"{convertingToList} and {type(convertingToList)}\")\n",
    "convertingToList.append(6)\n",
    "convertingToTupleAgain = tuple(convertingToList)\n",
    "print(convertingToTupleAgain)\n"
   ]
  },
  {
   "cell_type": "markdown",
   "id": "d34c49ba",
   "metadata": {},
   "source": [
    "### Assignment 11: Tuple and String\n",
    "\n",
    "Create a tuple with the characters of a string. Join the tuple elements into a single string. Print the string."
   ]
  },
  {
   "cell_type": "code",
   "execution_count": 68,
   "id": "51c6cdf8",
   "metadata": {},
   "outputs": [
    {
     "name": "stdout",
     "output_type": "stream",
     "text": [
      "('m', 'a', 'd', 'h', 'a', 'v', 'a')\n",
      "madhava\n"
     ]
    }
   ],
   "source": [
    "name = 'madhava'\n",
    "tpl = tuple(name)\n",
    "print(tpl)\n",
    "\n",
    "join_str = \"\".join(tpl)\n",
    "print(join_str)"
   ]
  },
  {
   "cell_type": "markdown",
   "id": "87cd745f",
   "metadata": {},
   "source": [
    "### Assignment 12: Tuple and Dictionary\n",
    "\n",
    "Create a dictionary with tuple keys and integer values. Print the dictionary."
   ]
  },
  {
   "cell_type": "code",
   "execution_count": 48,
   "id": "8527dc64",
   "metadata": {},
   "outputs": [
    {
     "name": "stdout",
     "output_type": "stream",
     "text": [
      "({'ages': 25}, {'age1': 24}, {'age2': 26})\n"
     ]
    }
   ],
   "source": [
    "dictionary = ({('ages') : 25},\n",
    "              {('age1') : 24},\n",
    "              {('age2'): 26})\n",
    "print(dictionary)"
   ]
  },
  {
   "cell_type": "markdown",
   "id": "ac83334c",
   "metadata": {},
   "source": [
    "### Assignment 13: Nested Tuple Iteration\n",
    "\n",
    "Create a nested tuple and iterate over the elements, printing each element."
   ]
  },
  {
   "cell_type": "code",
   "execution_count": 57,
   "id": "53cfab0e",
   "metadata": {},
   "outputs": [
    {
     "name": "stdout",
     "output_type": "stream",
     "text": [
      "1\n",
      "True\n",
      "False\n",
      "madhava\n"
     ]
    }
   ],
   "source": [
    "tupleValues = (1,True,False,\"madhava\")\n",
    "eachElement = tuple(print(i) for i in tupleValues)"
   ]
  },
  {
   "cell_type": "markdown",
   "id": "474198c7",
   "metadata": {},
   "source": [
    "### Assignment 14: Tuple and Set\n",
    "\n",
    "Create a tuple with duplicate elements. Convert it to a set to remove duplicates and print the resulting set."
   ]
  },
  {
   "cell_type": "code",
   "execution_count": 58,
   "id": "40983752",
   "metadata": {},
   "outputs": [
    {
     "name": "stdout",
     "output_type": "stream",
     "text": [
      "(1, 2, 3, 4, 5)\n"
     ]
    }
   ],
   "source": [
    "tupledup = (1,2,3,4,5,2,3,5)\n",
    "removedup = tuple(set(tupledup))\n",
    "print(removedup)"
   ]
  },
  {
   "cell_type": "markdown",
   "id": "0c987445",
   "metadata": {},
   "source": [
    "### Assignment 15: Tuple Functions\n",
    "\n",
    "Write functions that take a tuple and return the minimum, maximum, and sum of the elements. Print the results for a sample tuple."
   ]
  },
  {
   "cell_type": "code",
   "execution_count": 59,
   "id": "9e94a8cd",
   "metadata": {},
   "outputs": [
    {
     "name": "stdout",
     "output_type": "stream",
     "text": [
      "(5, 1, 15)\n"
     ]
    }
   ],
   "source": [
    "def tuplefun(tuple):\n",
    "  return max(tuple),min(tuple),sum(tuple)\n",
    "\n",
    "\n",
    "sampletuple = (1,2,3,4,5)\n",
    "allinOne = tuplefun(sampletuple)\n",
    "print(allinOne)\n"
   ]
  },
  {
   "cell_type": "code",
   "execution_count": null,
   "id": "54c58124",
   "metadata": {},
   "outputs": [],
   "source": []
  }
 ],
 "metadata": {
  "kernelspec": {
   "display_name": "dataven",
   "language": "python",
   "name": "python3"
  },
  "language_info": {
   "codemirror_mode": {
    "name": "ipython",
    "version": 3
   },
   "file_extension": ".py",
   "mimetype": "text/x-python",
   "name": "python",
   "nbconvert_exporter": "python",
   "pygments_lexer": "ipython3",
   "version": "3.13.1"
  }
 },
 "nbformat": 4,
 "nbformat_minor": 5
}
