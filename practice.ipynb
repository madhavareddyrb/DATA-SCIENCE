{
 "cells": [
  {
   "cell_type": "code",
   "execution_count": 4,
   "id": "103750a2",
   "metadata": {},
   "outputs": [
    {
     "data": {
      "text/plain": [
       "'Even'"
      ]
     },
     "execution_count": 4,
     "metadata": {},
     "output_type": "execute_result"
    }
   ],
   "source": [
    "def evenOdd(x):\n",
    "  if x % 2 == 0:\n",
    "    return 'Even'\n",
    "  else:\n",
    "    return \"Odd\"\n",
    "  \n",
    "evenOdd(2)"
   ]
  },
  {
   "cell_type": "code",
   "execution_count": 6,
   "id": "7787a4cf",
   "metadata": {},
   "outputs": [
    {
     "name": "stdout",
     "output_type": "stream",
     "text": [
      "False\n"
     ]
    }
   ],
   "source": [
    "tuple1 = (1,2,4,3)\n",
    "tuple2 = (1,2,3,4)\n",
    "print(tuple1<tuple2)"
   ]
  },
  {
   "cell_type": "code",
   "execution_count": 7,
   "id": "badb7640",
   "metadata": {},
   "outputs": [
    {
     "ename": "TypeError",
     "evalue": "unsupported operand type(s) for +: 'set' and 'set'",
     "output_type": "error",
     "traceback": [
      "\u001b[31m---------------------------------------------------------------------------\u001b[39m",
      "\u001b[31mTypeError\u001b[39m                                 Traceback (most recent call last)",
      "\u001b[36mCell\u001b[39m\u001b[36m \u001b[39m\u001b[32mIn[7]\u001b[39m\u001b[32m, line 3\u001b[39m\n\u001b[32m      1\u001b[39m set1 = {\u001b[32m1\u001b[39m,\u001b[32m2\u001b[39m,\u001b[32m3\u001b[39m}\n\u001b[32m      2\u001b[39m set2 = {\u001b[32m4\u001b[39m,\u001b[32m5\u001b[39m,\u001b[32m6\u001b[39m}\n\u001b[32m----> \u001b[39m\u001b[32m3\u001b[39m \u001b[38;5;28mprint\u001b[39m(\u001b[38;5;28mlen\u001b[39m(\u001b[43mset1\u001b[49m\u001b[43m+\u001b[49m\u001b[43mset2\u001b[49m))\n",
      "\u001b[31mTypeError\u001b[39m: unsupported operand type(s) for +: 'set' and 'set'"
     ]
    }
   ],
   "source": [
    "set1 = {1,2,3}\n",
    "set2 = {4,5,6}\n",
    "print(len(set1+set2))"
   ]
  },
  {
   "cell_type": "code",
   "execution_count": 8,
   "id": "fb73b2f1",
   "metadata": {},
   "outputs": [
    {
     "name": "stdout",
     "output_type": "stream",
     "text": [
      "0\n"
     ]
    }
   ],
   "source": [
    "a = 10\n",
    "b = 4\n",
    "bitwise_opeartor = a & b\n",
    "print(bitwise_opeartor)"
   ]
  },
  {
   "cell_type": "code",
   "execution_count": null,
   "id": "20e9b578",
   "metadata": {},
   "outputs": [],
   "source": []
  }
 ],
 "metadata": {
  "kernelspec": {
   "display_name": "datasciencevenv (3.13.5)",
   "language": "python",
   "name": "python3"
  },
  "language_info": {
   "codemirror_mode": {
    "name": "ipython",
    "version": 3
   },
   "file_extension": ".py",
   "mimetype": "text/x-python",
   "name": "python",
   "nbconvert_exporter": "python",
   "pygments_lexer": "ipython3",
   "version": "3.13.5"
  }
 },
 "nbformat": 4,
 "nbformat_minor": 5
}
