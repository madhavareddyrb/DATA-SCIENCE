{
 "cells": [
  {
   "cell_type": "markdown",
   "id": "16bc4b84",
   "metadata": {},
   "source": [
    "### Iterators\n",
    "Iterators are advanced Python concepts that allow for efficient looping and memory management. Iterators provide a way to access elements of a collection sequentially without exposing the underlying structure.\n"
   ]
  },
  {
   "cell_type": "code",
   "execution_count": 2,
   "id": "c98fc431",
   "metadata": {},
   "outputs": [
    {
     "name": "stdout",
     "output_type": "stream",
     "text": [
      "1\n",
      "2\n",
      "3\n",
      "4\n"
     ]
    }
   ],
   "source": [
    "my_list = [1,2,3,4]\n",
    "for i in my_list:\n",
    "  print(i)"
   ]
  },
  {
   "cell_type": "code",
   "execution_count": 3,
   "id": "b03500ff",
   "metadata": {},
   "outputs": [
    {
     "name": "stdout",
     "output_type": "stream",
     "text": [
      "[1, 2, 3, 4]\n",
      "<class 'list'>\n"
     ]
    }
   ],
   "source": [
    "print(my_list)\n",
    "print(type(my_list))"
   ]
  },
  {
   "cell_type": "code",
   "execution_count": 4,
   "id": "39066220",
   "metadata": {},
   "outputs": [],
   "source": [
    "# iterators\n",
    "\n",
    "lst_iterator = iter(my_list)"
   ]
  },
  {
   "cell_type": "code",
   "execution_count": 9,
   "id": "79da47e6",
   "metadata": {},
   "outputs": [
    {
     "ename": "StopIteration",
     "evalue": "",
     "output_type": "error",
     "traceback": [
      "\u001b[31m---------------------------------------------------------------------------\u001b[39m",
      "\u001b[31mStopIteration\u001b[39m                             Traceback (most recent call last)",
      "\u001b[36mCell\u001b[39m\u001b[36m \u001b[39m\u001b[32mIn[9]\u001b[39m\u001b[32m, line 2\u001b[39m\n\u001b[32m      1\u001b[39m \u001b[38;5;66;03m# lazy loading technique\u001b[39;00m\n\u001b[32m----> \u001b[39m\u001b[32m2\u001b[39m \u001b[38;5;28;43mnext\u001b[39;49m\u001b[43m(\u001b[49m\u001b[43mlst_iterator\u001b[49m\u001b[43m)\u001b[49m\n",
      "\u001b[31mStopIteration\u001b[39m: "
     ]
    }
   ],
   "source": [
    "# lazy loading technique\n",
    "next(lst_iterator)"
   ]
  },
  {
   "cell_type": "code",
   "execution_count": 10,
   "id": "1ffeaa08",
   "metadata": {},
   "outputs": [
    {
     "data": {
      "text/plain": [
       "<list_iterator at 0x25bd2acf1c0>"
      ]
     },
     "execution_count": 10,
     "metadata": {},
     "output_type": "execute_result"
    }
   ],
   "source": [
    "## there is no elemts in it now memory is clean\n",
    "lst_iterator"
   ]
  },
  {
   "cell_type": "code",
   "execution_count": 11,
   "id": "0151c7dd",
   "metadata": {},
   "outputs": [
    {
     "name": "stdout",
     "output_type": "stream",
     "text": [
      "there is no elemets\n"
     ]
    }
   ],
   "source": [
    "try:\n",
    "  print(next(lst_iterator))\n",
    "except StopIteration:\n",
    "  print(\"there is no elemets\")"
   ]
  },
  {
   "cell_type": "code",
   "execution_count": 12,
   "id": "7c983e96",
   "metadata": {},
   "outputs": [],
   "source": [
    "lst_iterator = iter(my_list)"
   ]
  },
  {
   "cell_type": "code",
   "execution_count": null,
   "id": "9c83c504",
   "metadata": {},
   "outputs": [
    {
     "name": "stdout",
     "output_type": "stream",
     "text": [
      "There is no elemts in lst_iterator\n"
     ]
    }
   ],
   "source": [
    "try:\n",
    "  print(next(lst_iterator))\n",
    "except StopIteration:\n",
    "  print(\"There is no elemts in lst_iterator\")"
   ]
  },
  {
   "cell_type": "code",
   "execution_count": null,
   "id": "1e52d260",
   "metadata": {},
   "outputs": [
    {
     "name": "stdout",
     "output_type": "stream",
     "text": [
      "m\n",
      "a\n"
     ]
    }
   ],
   "source": [
    "## For strings the ierator won't move to next element automatically like list elements we need to print again anf=d again that to all length of str\n",
    "\n",
    "str_na = 'madhava'\n",
    "str_iter = iter(str_na)\n",
    "print(next(str_iter))\n",
    "print(next(str_iter))"
   ]
  },
  {
   "cell_type": "code",
   "execution_count": null,
   "id": "f1e378c8",
   "metadata": {},
   "outputs": [],
   "source": []
  }
 ],
 "metadata": {
  "kernelspec": {
   "display_name": "datasciencevenv (3.13.5)",
   "language": "python",
   "name": "python3"
  },
  "language_info": {
   "codemirror_mode": {
    "name": "ipython",
    "version": 3
   },
   "file_extension": ".py",
   "mimetype": "text/x-python",
   "name": "python",
   "nbconvert_exporter": "python",
   "pygments_lexer": "ipython3",
   "version": "3.13.5"
  }
 },
 "nbformat": 4,
 "nbformat_minor": 5
}
