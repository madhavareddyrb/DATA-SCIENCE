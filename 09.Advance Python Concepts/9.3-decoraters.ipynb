{
 "cells": [
  {
   "cell_type": "markdown",
   "id": "9b66abd8",
   "metadata": {},
   "source": [
    "#### Decorators\n",
    "Decorators are a powerful and flexible feature in Python that allows you to modify the behavior of a function or class method. They are commonly used to add functionality to functions or methods without modifying their actual code. This lesson covers the basics of decorators, including how to create and use them."
   ]
  },
  {
   "cell_type": "code",
   "execution_count": 394,
   "id": "33ab2fd2",
   "metadata": {},
   "outputs": [
    {
     "data": {
      "text/plain": [
       "'welcome to class'"
      ]
     },
     "execution_count": 394,
     "metadata": {},
     "output_type": "execute_result"
    }
   ],
   "source": [
    "# function copy\n",
    "def welcome():\n",
    "  return 'welcome to class'\n",
    "welcome()"
   ]
  },
  {
   "cell_type": "code",
   "execution_count": 395,
   "metadata": {},
   "outputs": [
    {
     "name": "stdout",
     "output_type": "stream",
     "text": [
      "welcome to class\n",
      "welcome to class\n"
     ]
    }
   ],
   "source": [
    "wel = welcome\n",
    "print(wel())\n",
    "\n",
    "\n",
    "del welcome\n",
    "print(wel()) # any erroe run wlecome function again and run wel"
   ]
  },
  {
   "cell_type": "code",
   "execution_count": 396,
   "metadata": {},
   "outputs": [
    {
     "data": {
      "text/plain": [
       "'welcome to class'"
      ]
     },
     "execution_count": 396,
     "metadata": {},
     "output_type": "execute_result"
    }
   ],
   "source": [
    "wel()"
   ]
  },
  {
   "cell_type": "code",
   "execution_count": 397,
   "metadata": {},
   "outputs": [],
   "source": [
    "#welcome()"
   ]
  },
  {
   "cell_type": "code",
   "execution_count": 398,
   "id": "54547935",
   "metadata": {},
   "outputs": [],
   "source": [
    "## closures - a function inside a function, method as method\n",
    "def main_msg():\n",
    "  msg = 'Welcome'\n",
    "  def sub_welcome():\n",
    "    print('Welcome to advance class')\n",
    "    print(msg)\n",
    "    print('Please learn slowly')\n",
    "  return sub_welcome()"
   ]
  },
  {
   "cell_type": "code",
   "execution_count": 399,
   "id": "4d6af0ed",
   "metadata": {},
   "outputs": [
    {
     "name": "stdout",
     "output_type": "stream",
     "text": [
      "Welcome to advance class\n",
      "Welcome\n",
      "Please learn slowly\n"
     ]
    }
   ],
   "source": [
    "main_msg()"
   ]
  },
  {
   "cell_type": "code",
   "execution_count": 400,
   "id": "9ff14d67",
   "metadata": {},
   "outputs": [],
   "source": [
    "def main_msg2(msg):\n",
    "\n",
    "  def sub_msg():\n",
    "    print('Welcome to advance class')\n",
    "    print(msg)\n",
    "    print('Please learn slowly')\n",
    "  return sub_msg()"
   ]
  },
  {
   "cell_type": "code",
   "execution_count": 401,
   "metadata": {},
   "outputs": [
    {
     "name": "stdout",
     "output_type": "stream",
     "text": [
      "Welcome to advance class\n",
      "hello\n",
      "Please learn slowly\n"
     ]
    }
   ],
   "source": [
    "main_msg2('hello')"
   ]
  },
  {
   "cell_type": "code",
   "execution_count": 402,
   "metadata": {},
   "outputs": [],
   "source": [
    "def wel(func):\n",
    "\n",
    "  def sub_wel():\n",
    "    print('Welcome to advance class')\n",
    "    func('print will print here')\n",
    "    print('Please learn slowly')\n",
    "  return sub_wel()"
   ]
  },
  {
   "cell_type": "code",
   "execution_count": 403,
   "id": "f8738405",
   "metadata": {},
   "outputs": [
    {
     "name": "stdout",
     "output_type": "stream",
     "text": [
      "Welcome to advance class\n",
      "print will print here\n",
      "Please learn slowly\n"
     ]
    }
   ],
   "source": [
    "wel(print) # print fun goes to func"
   ]
  },
  {
   "cell_type": "code",
   "execution_count": 404,
   "id": "e010efd6",
   "metadata": {},
   "outputs": [],
   "source": [
    "def wel(func,lst):\n",
    "  def sub_wel():\n",
    "    print('Welcome to advance class')\n",
    "    print(func(lst))\n",
    "    print('Please learn slowly')\n",
    "  return sub_wel()"
   ]
  },
  {
   "cell_type": "code",
   "execution_count": 405,
   "id": "722e5ceb",
   "metadata": {},
   "outputs": [
    {
     "name": "stdout",
     "output_type": "stream",
     "text": [
      "Welcome to advance class\n",
      "5\n",
      "Please learn slowly\n"
     ]
    }
   ],
   "source": [
    "wel(len,[1,2,3,4,5])"
   ]
  },
  {
   "cell_type": "code",
   "execution_count": 406,
   "metadata": {},
   "outputs": [],
   "source": [
    "## Decoratpr\n",
    "\n",
    "def welcome(func):\n",
    "\n",
    "  def sub_welcome():\n",
    "    print('befor procces')\n",
    "    func()\n",
    "    print('after process')\n",
    "  return sub_welcome()\n",
    "\n",
    "## if we return function here like sub_welcome() we will get resuts at decoratoes only\n",
    "\n",
    "# if we can't return function like sub_welcome we have again need to print fuction for values\n",
    "\n",
    "## you can see the difference in code you will understood"
   ]
  },
  {
   "cell_type": "code",
   "execution_count": 407,
   "id": "aa83d019",
   "metadata": {},
   "outputs": [
    {
     "name": "stdout",
     "output_type": "stream",
     "text": [
      "garam chai\n"
     ]
    }
   ],
   "source": [
    "def chai():\n",
    "  print('garam chai')\n",
    "chai()"
   ]
  },
  {
   "cell_type": "code",
   "execution_count": 408,
   "id": "35bb645d",
   "metadata": {},
   "outputs": [
    {
     "name": "stdout",
     "output_type": "stream",
     "text": [
      "befor procces\n",
      "garam chai\n",
      "after process\n"
     ]
    }
   ],
   "source": [
    "welcome(chai)"
   ]
  },
  {
   "cell_type": "code",
   "execution_count": 409,
   "id": "7415183b",
   "metadata": {},
   "outputs": [
    {
     "name": "stdout",
     "output_type": "stream",
     "text": [
      "befor procces\n",
      "Garam Tea and lemon tea\n",
      "after process\n"
     ]
    }
   ],
   "source": [
    "@welcome\n",
    "def tea():\n",
    "  print('Garam Tea and lemon tea')"
   ]
  },
  {
   "cell_type": "code",
   "execution_count": 410,
   "id": "6101892f",
   "metadata": {},
   "outputs": [],
   "source": [
    "def courses(func):\n",
    "  def sub_topics():\n",
    "    print('To become a developer nedd to learn django')\n",
    "    func()\n",
    "    print('To become a frontend developer need to learn reactjs')\n",
    "  return sub_topics()"
   ]
  },
  {
   "cell_type": "code",
   "execution_count": 411,
   "id": "22de38dd",
   "metadata": {},
   "outputs": [
    {
     "name": "stdout",
     "output_type": "stream",
     "text": [
      "To become a developer nedd to learn django\n",
      "Pick any one\n",
      "To become a frontend developer need to learn reactjs\n"
     ]
    }
   ],
   "source": [
    "@courses\n",
    "def learn():\n",
    "  print('Pick any one')"
   ]
  },
  {
   "cell_type": "code",
   "execution_count": 412,
   "id": "04a37cd6",
   "metadata": {},
   "outputs": [],
   "source": [
    "## decorators with arguments\n",
    "\n",
    "def repeat(n):\n",
    "  def decorator(func):\n",
    "    def wrapper(*args,**kwargs):\n",
    "      for _ in range(n):\n",
    "        func(*args,**kwargs)\n",
    "    return wrapper\n",
    "  return decorator"
   ]
  },
  {
   "cell_type": "code",
   "execution_count": 413,
   "id": "c2c5e978",
   "metadata": {},
   "outputs": [],
   "source": [
    "@repeat(4)\n",
    "def say_hello():\n",
    "  print('Hello')"
   ]
  },
  {
   "cell_type": "code",
   "execution_count": 414,
   "id": "babc0df7",
   "metadata": {},
   "outputs": [
    {
     "name": "stdout",
     "output_type": "stream",
     "text": [
      "Hello\n",
      "Hello\n",
      "Hello\n",
      "Hello\n"
     ]
    }
   ],
   "source": [
    "say_hello()"
   ]
  },
  {
   "cell_type": "markdown",
   "id": "281946dd",
   "metadata": {},
   "source": [
    "#### Conclusion\n",
    "Decorators are a powerful tool in Python for extending and modifying the behavior of functions and methods. They provide a clean and readable way to add functionality such as logging, timing, access control, and more without changing the original code. Understanding and using decorators effectively can significantly enhance your Python programming skills."
   ]
  },
  {
   "cell_type": "code",
   "execution_count": null,
   "id": "66559ff5",
   "metadata": {},
   "outputs": [],
   "source": []
  },
  {
   "cell_type": "code",
   "execution_count": null,
   "id": "9c562e38",
   "metadata": {},
   "outputs": [],
   "source": []
  }
 ],
 "metadata": {
  "kernelspec": {
   "display_name": "datasciencevenv (3.13.5)",
   "language": "python",
   "name": "python3"
  },
  "language_info": {
   "codemirror_mode": {
    "name": "ipython",
    "version": 3
   },
   "file_extension": ".py",
   "mimetype": "text/x-python",
   "name": "python",
   "nbconvert_exporter": "python",
   "pygments_lexer": "ipython3",
   "version": "3.13.5"
  }
 },
 "nbformat": 4,
 "nbformat_minor": 5
}
