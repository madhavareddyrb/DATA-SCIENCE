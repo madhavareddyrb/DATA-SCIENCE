{
 "cells": [
  {
   "cell_type": "markdown",
   "id": "150e60d4",
   "metadata": {},
   "source": [
    "#### Generators\n",
    "Generators are a simpler way to create iterators. They use the yield keyword to produce a series of values lazily, which means they generate values on the fly and do not store them in memory."
   ]
  },
  {
   "cell_type": "code",
   "execution_count": 1,
   "id": "d41ba843",
   "metadata": {},
   "outputs": [],
   "source": [
    "def square(n):\n",
    "  for i in range(3):\n",
    "    return i ** 2"
   ]
  },
  {
   "cell_type": "code",
   "execution_count": 2,
   "id": "1832446c",
   "metadata": {},
   "outputs": [
    {
     "data": {
      "text/plain": [
       "0"
      ]
     },
     "execution_count": 2,
     "metadata": {},
     "output_type": "execute_result"
    }
   ],
   "source": [
    "square(3)"
   ]
  },
  {
   "cell_type": "code",
   "execution_count": 4,
   "id": "abd08f44",
   "metadata": {},
   "outputs": [],
   "source": [
    "def square(n):\n",
    "  for i in range(n):\n",
    "    yield i ** 2"
   ]
  },
  {
   "cell_type": "code",
   "execution_count": 5,
   "id": "e7c63ff2",
   "metadata": {},
   "outputs": [
    {
     "data": {
      "text/plain": [
       "<generator object square at 0x000001C908040AD0>"
      ]
     },
     "execution_count": 5,
     "metadata": {},
     "output_type": "execute_result"
    }
   ],
   "source": [
    "square(3)"
   ]
  },
  {
   "cell_type": "code",
   "execution_count": 6,
   "id": "63bbba86",
   "metadata": {},
   "outputs": [
    {
     "name": "stdout",
     "output_type": "stream",
     "text": [
      "0\n",
      "1\n",
      "4\n"
     ]
    }
   ],
   "source": [
    "for val in square(3):\n",
    "  print(val)"
   ]
  },
  {
   "cell_type": "code",
   "execution_count": 7,
   "id": "4a313756",
   "metadata": {},
   "outputs": [
    {
     "data": {
      "text/plain": [
       "<generator object square at 0x000001C908043030>"
      ]
     },
     "execution_count": 7,
     "metadata": {},
     "output_type": "execute_result"
    }
   ],
   "source": [
    "a = square(3)\n",
    "a"
   ]
  },
  {
   "cell_type": "code",
   "execution_count": 13,
   "id": "f5460b29",
   "metadata": {},
   "outputs": [
    {
     "ename": "StopIteration",
     "evalue": "",
     "output_type": "error",
     "traceback": [
      "\u001b[31m---------------------------------------------------------------------------\u001b[39m",
      "\u001b[31mStopIteration\u001b[39m                             Traceback (most recent call last)",
      "\u001b[36mCell\u001b[39m\u001b[36m \u001b[39m\u001b[32mIn[13]\u001b[39m\u001b[32m, line 1\u001b[39m\n\u001b[32m----> \u001b[39m\u001b[32m1\u001b[39m \u001b[38;5;28;43mnext\u001b[39;49m\u001b[43m(\u001b[49m\u001b[43ma\u001b[49m\u001b[43m)\u001b[49m\n",
      "\u001b[31mStopIteration\u001b[39m: "
     ]
    }
   ],
   "source": [
    "next(a)"
   ]
  },
  {
   "cell_type": "code",
   "execution_count": 12,
   "id": "5e6605ec",
   "metadata": {},
   "outputs": [
    {
     "name": "stdout",
     "output_type": "stream",
     "text": [
      "there is no values in genrateor or iterators\n"
     ]
    }
   ],
   "source": [
    "try:\n",
    "  print(next(a))\n",
    "except StopIteration:\n",
    "  print(\"there is no values in genrateor or iterators\")"
   ]
  },
  {
   "cell_type": "code",
   "execution_count": 14,
   "id": "306a9eb2",
   "metadata": {},
   "outputs": [],
   "source": [
    "def my_generator():\n",
    "  yield 1\n",
    "  yield 2\n",
    "  yield 'm'\n"
   ]
  },
  {
   "cell_type": "code",
   "execution_count": 15,
   "id": "568ee3c8",
   "metadata": {},
   "outputs": [
    {
     "data": {
      "text/plain": [
       "<generator object my_generator at 0x000001C908197110>"
      ]
     },
     "execution_count": 15,
     "metadata": {},
     "output_type": "execute_result"
    }
   ],
   "source": [
    "my_generator()"
   ]
  },
  {
   "cell_type": "code",
   "execution_count": 17,
   "id": "2779cc62",
   "metadata": {},
   "outputs": [
    {
     "name": "stdout",
     "output_type": "stream",
     "text": [
      "1\n",
      "2\n",
      "m\n"
     ]
    }
   ],
   "source": [
    "for val in my_generator():\n",
    "  print(val)"
   ]
  },
  {
   "cell_type": "markdown",
   "id": "67209496",
   "metadata": {},
   "source": [
    "#### Practical Example: Reading Large Files\n",
    "Generators are particularly useful for reading large files because they allow you to process one line at a time without loading the entire file into memory."
   ]
  },
  {
   "cell_type": "code",
   "execution_count": 18,
   "id": "23505039",
   "metadata": {},
   "outputs": [],
   "source": [
    "def read_large_file(file_path):\n",
    "  with open(file_path,'r') as file:\n",
    "    for line in file:\n",
    "      yield line\n"
   ]
  },
  {
   "cell_type": "code",
   "execution_count": 20,
   "id": "782078f0",
   "metadata": {},
   "outputs": [
    {
     "name": "stdout",
     "output_type": "stream",
     "text": [
      "Smt. Droupadi Murmu was sworn in as the 15th President of India on 25 July, 2022. Previously, she was the Governor of Jharkhand from 2015 to 2021. She has devoted her life to empowering the downtrodden and the marginalised sections and deepening the democratic values.\n",
      "\n",
      "Early Life and Education\n",
      "\n",
      "Born in a Santhali tribal family on 20 June, 1958 at Uparbeda village, Mayurbhanj, Odisha, Smt. Murmuâ€™s early life was marked by hardships and struggle. On completion of primary education from the village school, she went to Bhubaneswar on her own initiative to continue her studies. She earned the degree of Bachelor of Arts from Ramadevi Womenâ€™s College, Bhubaneswar and became the first woman from her village to receive college education.\n",
      "\n",
      "Professional Career\n",
      "\n",
      "From 1979 to 1983, Smt. Murmu served as a Junior Assistant in the Irrigation and Power Department, Government of Odisha. Later, she served as an honorary teacher at Sri Aurobindo Integral Education Centre, Rairangpur, from 1994 to 1997.\n",
      "\n",
      "Public Life\n",
      "\n",
      "In 2000, Smt. Murmu was elected from the Rairangpur constituency as a Member of the Legislative Assembly of Odisha and continued to hold the post till 2009, serving two terms. During this period, she served as Minister of State (Independent Charge), Department of Commerce and Transport in the Government of Odisha from March 6, 2000 to August 6, 2002 and as Minister of State (Independent Charge), Department of Fisheries and Animal Resources Development, Government of Odisha from Augu\n"
     ]
    }
   ],
   "source": [
    "file_path = 'large_file.txt'\n",
    "for read_lines in read_large_file(file_path):\n",
    "  print(read_lines.strip())"
   ]
  },
  {
   "cell_type": "markdown",
   "id": "5efc5af1",
   "metadata": {},
   "source": [
    "#### Why Do We Need Generators?\n",
    "###### Memory Efficient : Handle large or infinite data without loading everything into memory.\n",
    "###### No List Overhead : Yield items one by one, avoiding full list creation.\n",
    "###### Lazy Evaluation : Compute values only when needed, improving performance.\n",
    "###### Support Infinite Sequences : Ideal for generating unbounded data like Fibonacci series.\n",
    "###### Pipeline Processing : Chain generators to process data in stages efficiently."
   ]
  },
  {
   "cell_type": "code",
   "execution_count": null,
   "id": "2f3ff9ae",
   "metadata": {},
   "outputs": [],
   "source": []
  }
 ],
 "metadata": {
  "kernelspec": {
   "display_name": "datasciencevenv (3.13.5)",
   "language": "python",
   "name": "python3"
  },
  "language_info": {
   "codemirror_mode": {
    "name": "ipython",
    "version": 3
   },
   "file_extension": ".py",
   "mimetype": "text/x-python",
   "name": "python",
   "nbconvert_exporter": "python",
   "pygments_lexer": "ipython3",
   "version": "3.13.5"
  }
 },
 "nbformat": 4,
 "nbformat_minor": 5
}
