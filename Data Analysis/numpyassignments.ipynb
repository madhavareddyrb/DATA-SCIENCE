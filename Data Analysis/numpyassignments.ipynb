{
 "cells": [
  {
   "cell_type": "markdown",
   "metadata": {},
   "source": [
    "### Module: NumPy Assignments\n",
    "#### Lesson: NumPy\n",
    "##### Assignment 1: Array Creation and Manipulation\n",
    "\n",
    "1. Create a NumPy array of shape (5, 5) filled with random integers between 1 and 20. Replace all the elements in the third column with 1.\n",
    "2. Create a NumPy array of shape (4, 4) with values from 1 to 16. Replace the diagonal elements with 0."
   ]
  },
  {
   "cell_type": "code",
   "execution_count": 12,
   "metadata": {},
   "outputs": [],
   "source": [
    "import numpy as np"
   ]
  },
  {
   "cell_type": "code",
   "execution_count": 13,
   "id": "0eddf03a",
   "metadata": {},
   "outputs": [
    {
     "name": "stdout",
     "output_type": "stream",
     "text": [
      "(5, 5)\n",
      "[[ 1  2  1  4  5]\n",
      " [ 2  3  1 18 19]\n",
      " [ 5  6  1 19  1]\n",
      " [ 8  9  1 19 10]\n",
      " [18  9  1 10  2]]\n"
     ]
    }
   ],
   "source": [
    "arr = np.array([[1,2,3,4,5],[2,3,4,18,19],[5,6,7,19,1],[8,9,1,19,10],[18,9,1,10,2]])\n",
    "print(arr.shape)\n",
    "arr[0:,2] = 1\n",
    "print(arr)"
   ]
  },
  {
   "cell_type": "code",
   "execution_count": 14,
   "id": "66cb4df3",
   "metadata": {},
   "outputs": [
    {
     "name": "stdout",
     "output_type": "stream",
     "text": [
      "(4, 4)\n",
      "[[1. 0. 0. 0.]\n",
      " [0. 1. 0. 0.]\n",
      " [0. 0. 1. 0.]\n",
      " [0. 0. 0. 1.]]\n"
     ]
    }
   ],
   "source": [
    "arr1 = np.array([[1,2,3,4],[5,6,7,8],[9,10,11,12],[13,14,15,16]])\n",
    "print(arr1.shape)\n",
    "\n",
    "print(np.eye(4))"
   ]
  },
  {
   "cell_type": "markdown",
   "id": "050a74fa",
   "metadata": {},
   "source": [
    "##### Assignment 2: Array Indexing and Slicing\n",
    "1. Create a NumPy array of shape (6, 6) with values from 1 to 36. Extract the sub-array consisting of the 3rd to 5th rows and 2nd to 4th columns.\n",
    "2. Create a NumPy array of shape (5, 5) with random integers. Extract the elements on the border."
   ]
  },
  {
   "cell_type": "code",
   "execution_count": 15,
   "id": "ff673ba6",
   "metadata": {},
   "outputs": [
    {
     "name": "stdout",
     "output_type": "stream",
     "text": [
      "[[19 19  8 10 35 29]\n",
      " [ 3 26 16 20 27  8]\n",
      " [12 19 21 23 27 18]\n",
      " [29 26 11 14 13 29]\n",
      " [11 29 15 14 20 25]\n",
      " [28 18  7 14 24 12]]\n",
      "[[19 21 23]\n",
      " [26 11 14]\n",
      " [29 15 14]]\n"
     ]
    }
   ],
   "source": [
    "arr = np.random.randint(1,36, size = (6,6))\n",
    "print(arr)\n",
    "\n",
    "print(arr[2:5,1:4])\n"
   ]
  },
  {
   "cell_type": "markdown",
   "id": "8fadf4f4",
   "metadata": {},
   "source": [
    "2. Create a NumPy array of shape (5, 5) with random integers. Extract the elements on the border."
   ]
  },
  {
   "cell_type": "code",
   "execution_count": 16,
   "id": "af1b30a3",
   "metadata": {},
   "outputs": [
    {
     "name": "stdout",
     "output_type": "stream",
     "text": [
      "[[76 64  4 80 16]\n",
      " [84 91 60 72 90]\n",
      " [26 88 74 73 24]\n",
      " [53 51 84 91 26]\n",
      " [41  6 73 86 50]]\n",
      "[76 64  4 80 16 41  6 73 86 50 84 26 53 90 24 26]\n"
     ]
    }
   ],
   "source": [
    "arr = np.random.randint(1,100,size=(5,5))\n",
    "print(arr)\n",
    "#arr[:1],arr[-1:],arr[1:,0],arr[:,-1]\n",
    "border_array = np.concatenate((arr[0,:],arr[-1,:],arr[1:-1,0],arr[1:-1,-1]))\n",
    "print(border_array)"
   ]
  },
  {
   "cell_type": "markdown",
   "id": "40000852",
   "metadata": {},
   "source": [
    "#### Assignment 3: Array Operations\n",
    "1. Create two NumPy arrays of shape (3, 4) filled with random integers. Perform element-wise addition, subtraction, multiplication, and division."
   ]
  },
  {
   "cell_type": "code",
   "execution_count": 17,
   "id": "d3f0d5d6",
   "metadata": {},
   "outputs": [
    {
     "name": "stdout",
     "output_type": "stream",
     "text": [
      "arr1:\n",
      " [[ 6  6  6 15]\n",
      " [ 8 24 23  9]\n",
      " [ 5 23 13  2]]\n",
      "arr2:\n",
      " [[11  9  5 21]\n",
      " [21 22 22 22]\n",
      " [19 11 19 12]]\n",
      "addition:\n",
      " [[17 15 11 36]\n",
      " [29 46 45 31]\n",
      " [24 34 32 14]]\n",
      "subtraction:\n",
      " [[ -5  -3   1  -6]\n",
      " [-13   2   1 -13]\n",
      " [-14  12  -6 -10]]\n",
      "multiplication\n",
      " [[ 66  54  30 315]\n",
      " [168 528 506 198]\n",
      " [ 95 253 247  24]]\n",
      "division:\n",
      " [[0.54545455 0.66666667 1.2        0.71428571]\n",
      " [0.38095238 1.09090909 1.04545455 0.40909091]\n",
      " [0.26315789 2.09090909 0.68421053 0.16666667]]\n"
     ]
    }
   ],
   "source": [
    "arr1 = np.random.randint(1,25,size=(3,4))\n",
    "arr2 = np.random.randint(1,25,size=(3,4))\n",
    "print('arr1:\\n',arr1)\n",
    "print('arr2:\\n',arr2)\n",
    "\n",
    "#addition\n",
    "\n",
    "print('addition:\\n',arr1+arr2)\n",
    "\n",
    "#subtraction\n",
    "print('subtraction:\\n',arr1-arr2)\n",
    "\n",
    "#multiplication\n",
    "print('multiplication\\n',arr1*arr2)\n",
    "\n",
    "#division\n",
    "print('division:\\n',arr1/arr2)"
   ]
  },
  {
   "cell_type": "markdown",
   "id": "894dae11",
   "metadata": {},
   "source": [
    "2. Create a NumPy array of shape (4, 4) with values from 1 to 16. Compute the row-wise and column-wise sum."
   ]
  },
  {
   "cell_type": "code",
   "execution_count": 29,
   "id": "15a13254",
   "metadata": {},
   "outputs": [
    {
     "name": "stdout",
     "output_type": "stream",
     "text": [
      "[[8 8 4 7]\n",
      " [4 8 2 5]\n",
      " [8 3 2 6]\n",
      " [2 3 3 9]]\n",
      "row wise sum \n",
      " [27 19 19 17]\n",
      "column wise sum \n",
      " [22 22 11 27]\n"
     ]
    }
   ],
   "source": [
    "arr = np.random.randint(1,10,size=(4,4))\n",
    "print(arr)\n",
    "\n",
    "#row wise\n",
    "row_wise = np.sum(arr,axis=1)\n",
    "print(f\"row wise sum \\n {row_wise}\")\n",
    "\n",
    "#column wise\n",
    "column_wise = np.sum(arr,axis=0)\n",
    "print(f\"column wise sum \\n {column_wise}\")"
   ]
  },
  {
   "cell_type": "markdown",
   "id": "d042d586",
   "metadata": {},
   "source": [
    "### Assignment 4: Statistical Operations\n",
    "\n",
    "1. Create a NumPy array of shape (5, 5) filled with random integers. Compute the mean, median, standard deviation, and variance of the array."
   ]
  },
  {
   "cell_type": "code",
   "execution_count": 37,
   "id": "0e011735",
   "metadata": {},
   "outputs": [
    {
     "name": "stdout",
     "output_type": "stream",
     "text": [
      "[[ 1  2  3  4  5]\n",
      " [ 6  7  8  9 10]\n",
      " [11 12 13 14 15]\n",
      " [16 17 18 19 20]\n",
      " [21 22 23 24 25]]\n",
      "mean:13.0\n",
      "median:13.0\n",
      "standard deviation:7.211102550927978\n",
      "variance: 52.0\n"
     ]
    }
   ],
   "source": [
    "arr4 = np.arange(1,26).reshape(5,5) # must match the elements so better use random int\n",
    "print(arr4)\n",
    "\n",
    "mean_value = print(f\"mean:{np.mean(arr4)}\")\n",
    "median_value =  print(f\"median:{np.median(arr4)}\")\n",
    "standard_deviation = print(f\"standard deviation:{np.std(arr4)}\")\n",
    "variane_value = print(f\"variance: {np.var(arr4)}\")"
   ]
  },
  {
   "cell_type": "markdown",
   "id": "024b3061",
   "metadata": {},
   "source": [
    "2. Create a NumPy array of shape (3, 3) with values from 1 to 9. Normalize the array (i.e., scale the values to have a mean of 0 and a standard deviation of 1).\n"
   ]
  },
  {
   "cell_type": "code",
   "execution_count": 44,
   "id": "4d8fe094",
   "metadata": {},
   "outputs": [
    {
     "name": "stdout",
     "output_type": "stream",
     "text": [
      "Original array: \n",
      " [[7 1 8]\n",
      " [5 1 3]\n",
      " [3 5 8]]\n",
      "[[ 0.94498092 -1.37451769  1.33156402]\n",
      " [ 0.17181471 -1.37451769 -0.60135149]\n",
      " [-0.60135149  0.17181471  1.33156402]]\n"
     ]
    }
   ],
   "source": [
    "arr5 = np.random.randint(1,10,size = (3,3))\n",
    "print(f\"Original array: \\n {arr5}\")\n",
    "mean_value = np.mean(arr5)\n",
    "standard_deviation = np.std(arr5)\n",
    "noralize_data = (arr5 - mean_value) / standard_deviation\n",
    "print(noralize_data)"
   ]
  },
  {
   "cell_type": "markdown",
   "id": "42bdaaf8",
   "metadata": {},
   "source": [
    "### Assignment 5: Broadcasting\n",
    "\n",
    "1. Create a NumPy array of shape (3, 3) filled with random integers. Add a 1D array of shape (3,) to each row of the 2D array using broadcasting."
   ]
  },
  {
   "cell_type": "code",
   "execution_count": null,
   "id": "4e3bbe59",
   "metadata": {},
   "outputs": [
    {
     "name": "stdout",
     "output_type": "stream",
     "text": [
      "original array: \n",
      " [[1 1 3]\n",
      " [3 3 5]\n",
      " [9 9 5]]\n",
      "1D array is :\n",
      " [4 8 7]\n",
      "Final Array:\n",
      " [[ 5  9 10]\n",
      " [ 7 11 12]\n",
      " [13 17 12]]\n"
     ]
    }
   ],
   "source": [
    "arr_2d = np.random.randint(1,10,size=(3,3))\n",
    "print(f\"original array: \\n {arr_2d}\")\n",
    "arr_1D = np.random.randint(1,10,size=(3,))\n",
    "print(f\"1D array is :\\n {arr_1D}\")\n",
    "\n",
    "adding = arr_2d+arr_1D\n",
    "print(f\"Final Array:\\n {adding}\")"
   ]
  },
  {
   "cell_type": "markdown",
   "id": "7511cce3",
   "metadata": {},
   "source": [
    "2. Create a NumPy array of shape (4, 4) filled with random integers. Subtract a 1D array of shape (4,) from each column of the 2D array using broadcasting."
   ]
  },
  {
   "cell_type": "code",
   "execution_count": null,
   "id": "fab2e94a",
   "metadata": {},
   "outputs": [],
   "source": []
  }
 ],
 "metadata": {
  "kernelspec": {
   "display_name": "datasciencevenv",
   "language": "python",
   "name": "python3"
  },
  "language_info": {
   "codemirror_mode": {
    "name": "ipython",
    "version": 3
   },
   "file_extension": ".py",
   "mimetype": "text/x-python",
   "name": "python",
   "nbconvert_exporter": "python",
   "pygments_lexer": "ipython3",
   "version": "3.13.5"
  }
 },
 "nbformat": 4,
 "nbformat_minor": 5
}
