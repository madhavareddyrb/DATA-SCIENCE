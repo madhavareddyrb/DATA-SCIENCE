{
 "cells": [
  {
   "cell_type": "markdown",
   "id": "ceb74264",
   "metadata": {},
   "source": [
    "### Inheritance\n",
    "\n",
    "inheritance is a fundamental concept in object-oriented programming(OOP) that allows a class to inherit attributes and methods from another class.Single inheritance,double,multiple"
   ]
  },
  {
   "cell_type": "code",
   "execution_count": 1,
   "id": "b82bae18",
   "metadata": {},
   "outputs": [
    {
     "data": {
      "text/plain": [
       "'The person will drive petrol car'"
      ]
     },
     "execution_count": 1,
     "metadata": {},
     "output_type": "execute_result"
    }
   ],
   "source": [
    "# single inhertance\n",
    "# parent class\n",
    "\n",
    "class Car:\n",
    "  def __init__(self,enginetype,doors):\n",
    "    self.enginetype = enginetype\n",
    "    self.doors = doors\n",
    "\n",
    "  def drive(self):\n",
    "    return f\"The person will drive {self.enginetype} car\"\n",
    "\n",
    "car1 = Car('petrol',4)\n",
    "car1.drive()"
   ]
  },
  {
   "cell_type": "code",
   "execution_count": 2,
   "id": "80baad2d",
   "metadata": {},
   "outputs": [],
   "source": [
    "## inheriting class Car\n",
    "\n",
    "class Tesla(Car):\n",
    "  def __init__(self, enginetype, doors, is_selfdrive):\n",
    "\n",
    "    #super() keyword is used to inheritent supports attributes from Car() class\n",
    "    super().__init__(enginetype, doors)\n",
    "    self.is_selfdrive = is_selfdrive\n",
    "\n",
    "  def selfdriving(self):\n",
    "    return f\"Tesla supports self driving {self.enginetype} car\"\n"
   ]
  },
  {
   "cell_type": "code",
   "execution_count": null,
   "id": "20e1f271",
   "metadata": {},
   "outputs": [
    {
     "name": "stdout",
     "output_type": "stream",
     "text": [
      "Tesla supports self driving electric car\n"
     ]
    }
   ],
   "source": [
    "tesla1 = Tesla('electric',4,True) \n",
    "print(tesla1.selfdriving())"
   ]
  },
  {
   "cell_type": "code",
   "execution_count": 14,
   "id": "0b349b2d",
   "metadata": {},
   "outputs": [],
   "source": [
    "#multiple inheritance\n",
    "# when a class inheritance from more than two class is call ed inheritance class\n",
    "#Base Case1\n",
    "\n",
    "class Animal:\n",
    "  def __init__(self,name):\n",
    "    self.name = name\n",
    "  \n",
    "  def speak(self):\n",
    "    return 'subclass must implement this method'\n",
    "  \n",
    "# Base case 2\n",
    "class Pet:\n",
    "  def __init__(self,owner):\n",
    "    self.owner = owner\n",
    "\n",
    "#Derivied class\n",
    "\n",
    "class Dog(Animal,Pet):\n",
    "  def __init__(self,name,owner):\n",
    "    Animal.__init__(self,name)\n",
    "    Pet.__init__(self,owner)\n",
    "  def speak(self):\n",
    "    return f\"hey {self.owner} your {self.name} is barking\""
   ]
  },
  {
   "cell_type": "code",
   "execution_count": null,
   "id": "5298a896",
   "metadata": {},
   "outputs": [
    {
     "name": "stdout",
     "output_type": "stream",
     "text": [
      "hey madhava your Buddy is barking\n",
      "madhava\n"
     ]
    }
   ],
   "source": [
    "dog = Dog(\"Buddy\",\"madhava\")\n",
    "print(dog.speak())\n",
    "print(dog.owner)\n"
   ]
  },
  {
   "cell_type": "code",
   "execution_count": null,
   "id": "fe9f9f4c",
   "metadata": {},
   "outputs": [],
   "source": []
  }
 ],
 "metadata": {
  "kernelspec": {
   "display_name": "datasciencevenv",
   "language": "python",
   "name": "python3"
  },
  "language_info": {
   "codemirror_mode": {
    "name": "ipython",
    "version": 3
   },
   "file_extension": ".py",
   "mimetype": "text/x-python",
   "name": "python",
   "nbconvert_exporter": "python",
   "pygments_lexer": "ipython3",
   "version": "3.13.5"
  }
 },
 "nbformat": 4,
 "nbformat_minor": 5
}
