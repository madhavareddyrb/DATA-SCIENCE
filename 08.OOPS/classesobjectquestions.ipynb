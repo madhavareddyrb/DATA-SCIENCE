{
 "cells": [
  {
   "cell_type": "markdown",
   "metadata": {},
   "source": [
    "## Module: Classes and Objects Assignments\n",
    "### Lesson: Creating and Working with Classes and Objects\n",
    "#### Assignment 1: Basic Class and Object Creation\n",
    "\n",
    "Create a class named `Car` with attributes `make`, `model`, and `year`. Create an object of the class and print its attributes."
   ]
  },
  {
   "cell_type": "code",
   "execution_count": null,
   "metadata": {},
   "outputs": [
    {
     "name": "stdout",
     "output_type": "stream",
     "text": [
      "tata\n",
      "tata\n",
      "2003\n"
     ]
    }
   ],
   "source": [
    "class Car:\n",
    "  def __init__(self,make,model,year):\n",
    "    self.make = make\n",
    "    self.model = model\n",
    "    self.year = year\n",
    "car = Car('tata','20fz',2003)\n",
    "print(car.make)\n",
    "print(car.make)\n",
    "print(car.year)"
   ]
  },
  {
   "cell_type": "markdown",
   "id": "8d7e82be",
   "metadata": {},
   "source": [
    "### Assignment 2: Methods in Class\n",
    "\n",
    "Add a method named `start_engine` to the `Car` class that prints a message when the engine starts. Create an object of the class and call the method."
   ]
  },
  {
   "cell_type": "code",
   "execution_count": 7,
   "id": "94745435",
   "metadata": {},
   "outputs": [
    {
     "name": "stdout",
     "output_type": "stream",
     "text": [
      "This car tata and AZ120 is released 2002\n"
     ]
    }
   ],
   "source": [
    "class Car:\n",
    "  def __init__(self,make,model,year):\n",
    "    self.make = make\n",
    "    self.model = model\n",
    "    self.year = year\n",
    "  \n",
    "  def start_engine(self):\n",
    "    return f\"This car {self.make} and {self.model} is released {self.year}\"\n",
    "  \n",
    "car = Car(\"tata\",'AZ120',2002)\n",
    "print(car.start_engine())\n",
    "    "
   ]
  },
  {
   "cell_type": "markdown",
   "id": "67c9251f",
   "metadata": {},
   "source": [
    "### Assignment 3: Class with Constructor\n",
    "\n",
    "Create a class named `Student` with attributes `name` and `age`. Use a constructor to initialize these attributes. Create an object of the class and print its attributes.\n"
   ]
  },
  {
   "cell_type": "code",
   "execution_count": null,
   "id": "5215eb1d",
   "metadata": {},
   "outputs": [
    {
     "name": "stdout",
     "output_type": "stream",
     "text": [
      "madhava\n",
      "20\n"
     ]
    }
   ],
   "source": [
    "class Student:\n",
    "  def __init__(self,name,age):\n",
    "    self.name = name\n",
    "    self.age = age\n",
    "\n",
    "\n",
    "student = Student('madhava',20)\n",
    "print(student.name)\n",
    "print(student.age)"
   ]
  },
  {
   "cell_type": "markdown",
   "id": "b3ef61dc",
   "metadata": {},
   "source": [
    "### Assignment 4: Class with Private Attributes\n",
    "\n",
    "Create a class named `BankAccount` with private attributes `account_number` and `balance`. Add methods to deposit and withdraw money, and to check the balance. Create an object of the class and perform some operations.\n"
   ]
  },
  {
   "cell_type": "code",
   "execution_count": 14,
   "id": "0798ed37",
   "metadata": {},
   "outputs": [
    {
     "name": "stdout",
     "output_type": "stream",
     "text": [
      "6000\n",
      "6000\n",
      "successfully withdraw 1000 and balance is 5000\n",
      "can't withdraw lesthan 0\n",
      "add ammount greater than 100 and chooose 100 or 500\n",
      "5000\n"
     ]
    }
   ],
   "source": [
    "class BankAccount:\n",
    "  def __init__(self,account_number,balance):\n",
    "    self.account_number = account_number\n",
    "    self.balance = balance\n",
    "  \n",
    "  def deposit(self,ammount):\n",
    "    self.ammount = ammount\n",
    "    self.balance += ammount\n",
    "    return self.balance\n",
    "\n",
    "  def withdraw(self,ammount):\n",
    "    if ammount < 0:\n",
    "      return \"can't withdraw lesthan 0\"\n",
    "    elif ammount > 100 :\n",
    "      self.balance -= ammount\n",
    "      return f\"successfully withdraw {self.ammount} and balance is {self.balance}\"\n",
    "    else:\n",
    "      return \"add ammount greater than 100 and chooose 100 or 500\"\n",
    "    \n",
    "\n",
    "account = BankAccount(12345,5000)\n",
    "print(account.deposit(1000))\n",
    "print(account.balance)\n",
    "\n",
    "print(account.withdraw(1000))\n",
    "print(account.withdraw(-100))\n",
    "print(account.withdraw(10))\n",
    "print(account.balance)\n",
    "\n"
   ]
  },
  {
   "cell_type": "markdown",
   "id": "8854650c",
   "metadata": {},
   "source": [
    "### Assignment 5: Class Inheritance\n",
    "\n",
    "Create a base class named `Person` with attributes `name` and `age`. Create a derived class named `Employee` that inherits from `Person` and adds an attribute `employee_id`. Create an object of the derived class and print its attributes."
   ]
  },
  {
   "cell_type": "code",
   "execution_count": 4,
   "id": "ad4733b9",
   "metadata": {},
   "outputs": [
    {
     "name": "stdout",
     "output_type": "stream",
     "text": [
      "madhava\n",
      "madhava\n",
      "23\n",
      "1452\n",
      "str representation method\n"
     ]
    }
   ],
   "source": [
    "class Person:\n",
    "  def __init__(self,name,age):\n",
    "    self.name = name\n",
    "    self.age = age\n",
    "  \n",
    "class Employee(Person):\n",
    "    def __init__(self,name,age,employee_id):\n",
    "      super().__init__(name,age)\n",
    "      self.employee_id = employee_id\n",
    "\n",
    "    def __str__(self):\n",
    "       return \"str representation method\"\n",
    "\n",
    "person = Person('madhava',25)\n",
    "print(person.name)\n",
    "\n",
    "employe  = Employee('madhava',23,1452)\n",
    "print(employe.name)\n",
    "print(employe.age)\n",
    "print(employe.employee_id)\n",
    "\n",
    "print(employe)"
   ]
  },
  {
   "cell_type": "markdown",
   "id": "b67f0715",
   "metadata": {},
   "source": [
    "### Assignment 6: Method Overriding\n",
    "\n",
    "In the `Employee` class, override the `__str__` method to return a string representation of the object. Create an object of the class and print it.\n"
   ]
  },
  {
   "cell_type": "code",
   "execution_count": null,
   "id": "bdc0463f",
   "metadata": {},
   "outputs": [],
   "source": []
  },
  {
   "cell_type": "markdown",
   "id": "98403d28",
   "metadata": {},
   "source": [
    "### Assignment 7: Class Composition\n",
    "\n",
    "Create a class named `Address` with attributes `street`, `city`, and `zipcode`. Create a class named `Person` that has an `Address` object as an attribute. Create an object of the `Person` class and print its address."
   ]
  },
  {
   "cell_type": "code",
   "execution_count": 14,
   "id": "6b8c821c",
   "metadata": {},
   "outputs": [
    {
     "name": "stdout",
     "output_type": "stream",
     "text": [
      "Hyd\n",
      "('123Street', 'Hyd', 242526)\n"
     ]
    }
   ],
   "source": [
    "class Address:\n",
    "  def __init__(self,street,city,zipcode):\n",
    "    self.street = street\n",
    "    self.city = city\n",
    "    self.zipcode = zipcode\n",
    "  \n",
    "class Person(Address):\n",
    "  def __init__(self,street,city,zipcode,address):\n",
    "    super().__init__(street,city,zipcode)\n",
    "    self.address = street,city,zipcode\n",
    "    \n",
    "  \n",
    "person = Person('123Street','Hyd',242526,123)\n",
    "print(person.city)\n",
    "print(person.address)\n"
   ]
  },
  {
   "cell_type": "markdown",
   "id": "a1ba4ec0",
   "metadata": {},
   "source": [
    "### Assignment 8: Class with Class Variables\n",
    "\n",
    "Create a class named `Counter` with a class variable `count`. Each time an object is created, increment the count. Add a method to get the current count. Create multiple objects and print the count.\n"
   ]
  },
  {
   "cell_type": "code",
   "execution_count": 19,
   "id": "fb6b5b8a",
   "metadata": {},
   "outputs": [
    {
     "name": "stdout",
     "output_type": "stream",
     "text": [
      "2\n"
     ]
    }
   ],
   "source": [
    "class Counter:\n",
    "  count = 0\n",
    "\n",
    "  def __init__(self):\n",
    "    Counter.count += 1\n",
    "  \n",
    "  def get_count(Counter):\n",
    "    return Counter.count\n",
    "\n",
    "obj1 = Counter()\n",
    "obj2 = Counter()\n",
    "\n",
    "\n",
    "print(obj1.get_count())"
   ]
  },
  {
   "cell_type": "markdown",
   "id": "f7146b07",
   "metadata": {},
   "source": [
    "### Assignment 9: Static Methods\n",
    "\n",
    "Create a class named `MathOperations` with a static method to calculate the square root of a number. Call the static method without creating an object.\n"
   ]
  },
  {
   "cell_type": "code",
   "execution_count": 25,
   "metadata": {},
   "outputs": [
    {
     "name": "stdout",
     "output_type": "stream",
     "text": [
      "2.23606797749979\n"
     ]
    }
   ],
   "source": [
    "import math\n",
    "\n",
    "class MathOperations:\n",
    "  @staticmethod\n",
    "  def squqre(num):\n",
    "    return math.sqrt(num)\n",
    "\n",
    "result = MathOperations.squqre(5)\n",
    "print(result)"
   ]
  },
  {
   "cell_type": "markdown",
   "id": "0e121054",
   "metadata": {},
   "source": [
    "### Assignment 10: Class with Properties\n",
    "\n",
    "Create a class named `Rectangle` with private attributes `length` and `width`. Use properties to get and set these attributes. Create an object of the class and test the properties."
   ]
  },
  {
   "cell_type": "code",
   "execution_count": 39,
   "id": "7f4194fe",
   "metadata": {},
   "outputs": [
    {
     "name": "stdout",
     "output_type": "stream",
     "text": [
      "6\n",
      "20\n"
     ]
    }
   ],
   "source": [
    "class Rectangle:\n",
    "  def __init__(self,length,width):\n",
    "    self._length = length\n",
    "    self._width = width\n",
    "\n",
    "  def get_data(self):\n",
    "    return self._length*self._width\n",
    "  \n",
    "  def set_data(self,length,width):\n",
    "    self._length = length\n",
    "    self._width = width\n",
    "    return self._length*self._width\n",
    "\n",
    "recatngle = Rectangle(2,3)\n",
    "print(recatngle.get_data())\n",
    "print(recatngle.set_data(2,10))"
   ]
  },
  {
   "cell_type": "markdown",
   "id": "26e4f8e6",
   "metadata": {},
   "source": [
    "### Assignment 11: Abstract Base Class\n",
    "\n",
    "Create an abstract base class named `Shape` with an abstract method `area`. Create derived classes `Circle` and `Square` that implement the `area` method. Create objects of the derived classes and call the `area` method."
   ]
  },
  {
   "cell_type": "code",
   "execution_count": null,
   "metadata": {},
   "outputs": [
    {
     "name": "stdout",
     "output_type": "stream",
     "text": [
      "28.26\n",
      "16\n"
     ]
    }
   ],
   "source": [
    "from abc import ABC,abstractmethod\n",
    "\n",
    "class Shape(ABC):\n",
    "  @abstractmethod\n",
    "  def area(self):\n",
    "    pass\n",
    "\n",
    "class Circle(Shape):\n",
    "  def area(self,r):\n",
    "    self.r = r\n",
    "    return 3.14*(r**2)\n",
    "  \n",
    "class Square(Shape):\n",
    "  def area(self,a):\n",
    "    self.a = a\n",
    "    return a**2\n",
    "  \n",
    "circle = Circle()\n",
    "print(circle.area(3))\n",
    "\n",
    "square = Square()\n",
    "print(square.area(4))\n"
   ]
  },
  {
   "cell_type": "markdown",
   "id": "c1a7e549",
   "metadata": {},
   "source": [
    "### Assignment 12: Operator Overloading\n",
    "\n",
    "Create a class named `Vector` with attributes `x` and `y`. Overload the `+` operator to add two `Vector` objects. Create objects of the class and test the operator overloading.\n"
   ]
  },
  {
   "cell_type": "code",
   "execution_count": 4,
   "metadata": {},
   "outputs": [
    {
     "name": "stdout",
     "output_type": "stream",
     "text": [
      "Vector(6 , 3)\n"
     ]
    }
   ],
   "source": [
    "class Vector:\n",
    "  def __init__(self,x,y):\n",
    "    self.x = x\n",
    "    self.y = y\n",
    "   \n",
    "  def __add__(self,other):\n",
    "    return Vector(self.x+other.x , self.y+other.y)\n",
    "\n",
    "  def __str__(self):\n",
    "    return f'Vector({self.x} , {self.y})'\n",
    "v1 = Vector(1,2)\n",
    "v2 = Vector(5,1)\n",
    "\n",
    "print(v1+v2)"
   ]
  },
  {
   "cell_type": "markdown",
   "id": "35a7de03",
   "metadata": {},
   "source": [
    "### Assignment 13: Class with Custom Exception\n",
    "\n",
    "Create a custom exception named `InsufficientBalanceError`. In the `BankAccount` class, raise this exception when a withdrawal amount is greater than the balance. Handle the exception and print an appropriate message."
   ]
  },
  {
   "cell_type": "code",
   "execution_count": 5,
   "id": "398a9a8f",
   "metadata": {},
   "outputs": [],
   "source": [
    "class Error(Exception):\n",
    "  pass\n",
    "class balance(Error):\n",
    "  pass\n"
   ]
  },
  {
   "cell_type": "code",
   "execution_count": null,
   "id": "fa3c638b",
   "metadata": {},
   "outputs": [],
   "source": [
    "balance = 1000\n",
    "amount = 10000\n",
    "\n",
    "try:\n",
    "  if amount < balance:\n",
    "    print(f'{balance}-{-(amount)}')\n",
    "  else:\n",
    "    raise balance\n",
    "except balance:\n",
    "  return 'insufficient Balance'\n",
    "\n",
    "\n",
    "\n",
    "  "
   ]
  }
 ],
 "metadata": {
  "kernelspec": {
   "display_name": "datasciencevenv (3.13.5)",
   "language": "python",
   "name": "python3"
  },
  "language_info": {
   "codemirror_mode": {
    "name": "ipython",
    "version": 3
   },
   "file_extension": ".py",
   "mimetype": "text/x-python",
   "name": "python",
   "nbconvert_exporter": "python",
   "pygments_lexer": "ipython3",
   "version": "3.13.5"
  }
 },
 "nbformat": 4,
 "nbformat_minor": 5
}
