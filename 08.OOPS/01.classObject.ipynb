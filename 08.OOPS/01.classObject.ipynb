{
 "cells": [
  {
   "cell_type": "markdown",
   "id": "cfe23daf",
   "metadata": {},
   "source": [
    "### OOPS: Object-Oriented Programming\n",
    "OOPS is programming paradigm that uses objects to design applications and computer program.\n",
    "\n",
    "A class is a blue print for creating objects,attributes,methods\n",
    "Steps:\n",
    "1.A class always starts with class keyword\n",
    "2.Attributes are variable that belong to class\n",
    "3.attributes are always public and can be accessed in myclass.myattribute"
   ]
  },
  {
   "cell_type": "code",
   "execution_count": 1,
   "id": "421e6acd",
   "metadata": {},
   "outputs": [
    {
     "name": "stdout",
     "output_type": "stream",
     "text": [
      "<__main__.Car object at 0x0000017F5366C590>\n",
      "<__main__.Car object at 0x0000017F53473250>\n"
     ]
    }
   ],
   "source": [
    "## example empty class\n",
    "class Car():\n",
    "  pass\n",
    "\n",
    "# objects from class blue print\n",
    "audi = Car() \n",
    "bmw = Car()\n",
    "print(audi)\n",
    "print(bmw)"
   ]
  },
  {
   "cell_type": "code",
   "execution_count": 2,
   "id": "1615c14c",
   "metadata": {},
   "outputs": [
    {
     "name": "stdout",
     "output_type": "stream",
     "text": [
      "<__main__.Car object at 0x0000017F5366C590>\n",
      "4\n"
     ]
    },
    {
     "ename": "AttributeError",
     "evalue": "'Car' object has no attribute 'windows'",
     "output_type": "error",
     "traceback": [
      "\u001b[31m---------------------------------------------------------------------------\u001b[39m",
      "\u001b[31mAttributeError\u001b[39m                            Traceback (most recent call last)",
      "\u001b[36mCell\u001b[39m\u001b[36m \u001b[39m\u001b[32mIn[2]\u001b[39m\u001b[32m, line 5\u001b[39m\n\u001b[32m      3\u001b[39m \u001b[38;5;28mprint\u001b[39m(audi)\n\u001b[32m      4\u001b[39m \u001b[38;5;28mprint\u001b[39m(audi.windows)\n\u001b[32m----> \u001b[39m\u001b[32m5\u001b[39m \u001b[38;5;28mprint\u001b[39m(\u001b[43mbmw\u001b[49m\u001b[43m.\u001b[49m\u001b[43mwindows\u001b[49m)\n",
      "\u001b[31mAttributeError\u001b[39m: 'Car' object has no attribute 'windows'"
     ]
    }
   ],
   "source": [
    "# instance attributes\n",
    "audi.windows = 4\n",
    "print(audi)\n",
    "print(audi.windows)\n",
    "print(bmw.windows)"
   ]
  },
  {
   "cell_type": "code",
   "execution_count": null,
   "id": "76d5400a",
   "metadata": {},
   "outputs": [
    {
     "name": "stdout",
     "output_type": "stream",
     "text": [
      "<__main__.Car object at 0x000001EEE770ACF0>\n",
      "<__main__.Car object at 0x000001EEE79A2C10>\n",
      "black\n",
      "black\n"
     ]
    }
   ],
   "source": [
    "# from above instance attributes\n",
    "# we need define for every object seperatley instance attributes we won't use that method\n",
    "\n",
    "class Car:\n",
    "  #class attributes\n",
    "  color = 'black'\n",
    "\n",
    "  #instance method: we will use __init__ to automaticaaly create objects when creating objects\n",
    "  # self paramter is used to access instance attributes in objects(objectname.instaceAtributename)\n",
    "  def __init__(self,name,windows): \n",
    "    #instance variables or instance attributes\n",
    "    self.name = name\n",
    "    self.windows = windows\n",
    "\n",
    "car1 = Car('BMW',3)\n",
    "car2 = Car('Tata',4)\n",
    "print(car1)\n",
    "print(car2)\n",
    "\n",
    "#class attribute universal for all methods\n",
    "print(car1.color) \n",
    "print(car2.color)"
   ]
  },
  {
   "cell_type": "code",
   "execution_count": null,
   "id": "59ba680c",
   "metadata": {},
   "outputs": [
    {
     "name": "stdout",
     "output_type": "stream",
     "text": [
      "BMW : 3\n",
      "Tata : 4\n"
     ]
    }
   ],
   "source": [
    "# acessing instance variable or atributes\n",
    "print(car1.name,':',car1.windows)\n",
    "print(car2.name,':',car2.windows)"
   ]
  },
  {
   "cell_type": "code",
   "execution_count": null,
   "id": "c64a38c1",
   "metadata": {},
   "outputs": [
    {
     "name": "stdout",
     "output_type": "stream",
     "text": [
      "Ferari\n",
      "white\n",
      "white\n"
     ]
    }
   ],
   "source": [
    "#updateing variables\n",
    "car1.name = 'Ferari'\n",
    "print(car1.name)\n",
    "\n",
    "Car.color = 'white' # changing whole class\n",
    "print(car1.color)\n",
    "print(car2.color)\n",
    "\n"
   ]
  },
  {
   "cell_type": "code",
   "execution_count": null,
   "id": "db9828f3",
   "metadata": {},
   "outputs": [
    {
     "name": "stdout",
     "output_type": "stream",
     "text": [
      "chimtu is barking\n"
     ]
    }
   ],
   "source": [
    "# another example\n",
    "\n",
    "class Dog:\n",
    "\n",
    "  def __init__(self,name,age):\n",
    "    self.name = name\n",
    "    self.age = age\n",
    "  #instance method(some functionality)\n",
    "  def bark(self):\n",
    "    print(f'{self.name} is barking')\n",
    "\n",
    "dog1 = Dog(\"chimtu\", 5)\n",
    "dog1.bark()"
   ]
  },
  {
   "cell_type": "code",
   "execution_count": null,
   "id": "e2d2c8dd",
   "metadata": {},
   "outputs": [
    {
     "name": "stdout",
     "output_type": "stream",
     "text": [
      "1000\n",
      "100 is deposited.The new balance is 1100\n"
     ]
    }
   ],
   "source": [
    "## create a bank account,owner,amount,withdrwa,deposit,balace\n",
    "\n",
    "class BankAccount:\n",
    "\n",
    "  def __init__(self,owner,balance):\n",
    "    self.owner = owner\n",
    "    self.balance = balance\n",
    "  \n",
    "  def deposit(self,ammount):\n",
    "    self.balance += ammount\n",
    "    return f\"{ammount} is deposited.The new balance is {self.balance}\"\n",
    "  \n",
    "  def withdraw(self,ammount):\n",
    "    self.ammount = ammount\n",
    "    if ammount > self.balance:\n",
    "      return f\"Insufficient Balance\"\n",
    "    else:\n",
    "      self.balance -= ammount\n",
    "      return f\"{ammount} is successfully withdraw.New Balance is {self.balance}\"\n",
    "  def get_balance(self):\n",
    "    return self.balance\n",
    "  \n",
    "# create an object\n",
    "account = BankAccount('madhava',1000)\n",
    "print(account.balance)\n",
    "\n",
    "#call instance methods\n",
    "\n",
    "print(account.deposit(100))\n",
    "\n",
    "    "
   ]
  },
  {
   "cell_type": "code",
   "execution_count": null,
   "id": "fca356dc",
   "metadata": {},
   "outputs": [
    {
     "name": "stdout",
     "output_type": "stream",
     "text": [
      "100 is deposited.The new balance is 1200\n"
     ]
    }
   ],
   "source": [
    "print(account.deposit(100))"
   ]
  },
  {
   "cell_type": "code",
   "execution_count": null,
   "id": "7aa0c94c",
   "metadata": {},
   "outputs": [
    {
     "name": "stdout",
     "output_type": "stream",
     "text": [
      "Insufficient Balance\n"
     ]
    }
   ],
   "source": [
    "print(account.withdraw(10000))"
   ]
  },
  {
   "cell_type": "code",
   "execution_count": null,
   "id": "94817f6d",
   "metadata": {},
   "outputs": [
    {
     "data": {
      "text/plain": [
       "'500 is successfully withdraw.New Balance is 700'"
      ]
     },
     "execution_count": 40,
     "metadata": {},
     "output_type": "execute_result"
    }
   ],
   "source": [
    "account.withdraw(500)"
   ]
  },
  {
   "cell_type": "code",
   "execution_count": null,
   "id": "116c6b01",
   "metadata": {},
   "outputs": [
    {
     "data": {
      "text/plain": [
       "700"
      ]
     },
     "execution_count": 41,
     "metadata": {},
     "output_type": "execute_result"
    }
   ],
   "source": [
    "account.get_balance()"
   ]
  },
  {
   "cell_type": "code",
   "execution_count": null,
   "id": "632036b3",
   "metadata": {},
   "outputs": [],
   "source": []
  }
 ],
 "metadata": {
  "kernelspec": {
   "display_name": "datasciencevenv",
   "language": "python",
   "name": "python3"
  },
  "language_info": {
   "codemirror_mode": {
    "name": "ipython",
    "version": 3
   },
   "file_extension": ".py",
   "mimetype": "text/x-python",
   "name": "python",
   "nbconvert_exporter": "python",
   "pygments_lexer": "ipython3",
   "version": "3.13.5"
  }
 },
 "nbformat": 4,
 "nbformat_minor": 5
}
