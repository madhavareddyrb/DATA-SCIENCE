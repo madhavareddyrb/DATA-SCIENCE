{
 "cells": [
  {
   "cell_type": "markdown",
   "id": "6f1a4acf",
   "metadata": {},
   "source": [
    "#### Polymorphism\n",
    "Polymorphism is a core concept in Object-Oriented Programming (OOP) that allows objects of different classes to be treated as objects of a common superclass. It provides a way to perform a single action in different forms. Polymorphism is typically achieved through method overriding and interfaces\n",
    "\n"
   ]
  },
  {
   "cell_type": "markdown",
   "id": "315e358b",
   "metadata": {},
   "source": [
    "###  Method Overriding\n",
    "Method overriding allows a child class to provide a specific implementation of a method that is already defined in its parent class."
   ]
  },
  {
   "cell_type": "code",
   "execution_count": 12,
   "id": "a065e72c",
   "metadata": {},
   "outputs": [
    {
     "name": "stdout",
     "output_type": "stream",
     "text": [
      "dog sound like boovboov!\n",
      "cat sound like memow!\n",
      "dog sound like boovboov!\n"
     ]
    }
   ],
   "source": [
    "# method overriding\n",
    "# Base Class\n",
    "\n",
    "class Animal:\n",
    "  def speak(self):\n",
    "    return \"Sound coming from that animal\"\n",
    "\n",
    "class Dog(Animal):\n",
    "  def speak(self):\n",
    "    return \"dog sound like boovboov!\"\n",
    "class Cat(Animal):\n",
    "  def speak(self):\n",
    "    return \"cat sound like memow!\"\n",
    "  \n",
    "## function implementaion for polymorpshim\n",
    "\n",
    "def animal_speak(animalsma):  # to just make it is normal function \n",
    "  print(animalsma.speak())    # calling speak function. How works animal_speak(dog.speak())\n",
    "\n",
    "dog = Dog()\n",
    "print(dog.speak())\n",
    "\n",
    "cat = Cat()\n",
    "print(cat.speak())\n",
    "\n",
    "animal_speak(dog)"
   ]
  },
  {
   "cell_type": "code",
   "execution_count": null,
   "id": "220c8122",
   "metadata": {},
   "outputs": [
    {
     "name": "stdout",
     "output_type": "stream",
     "text": [
      "20\n",
      "28.259999999999998\n",
      "the area of 20\n"
     ]
    }
   ],
   "source": [
    "#Polymorphism with functions and methods\n",
    "class Shape:\n",
    "  def area(self):\n",
    "    return \"area of the shapes\"\n",
    "\n",
    "class Rectangle(Shape):\n",
    "  def __init__(self,width,height):\n",
    "    self.width = width\n",
    "    self.height = height\n",
    "  \n",
    "  def area(self):\n",
    "    return self.width * self.height\n",
    "  \n",
    "class Circle(Shape):\n",
    "  def __init__(self,radius):\n",
    "    self.radius = radius\n",
    "\n",
    "  def area(self):\n",
    "    return 3.14 * self.radius * self.radius\n",
    "  \n",
    "## Function implementation\n",
    "def print_area(shapes):\n",
    "  return f'the area of {shapes.area()}'\n",
    "\n",
    "\n",
    "rectangle = Rectangle(4,5)\n",
    "print(rectangle.area())\n",
    "\n",
    "circle = Circle(3)\n",
    "print(circle.area())\n",
    "\n",
    "#functions\n",
    "print(print_area(rectangle))"
   ]
  },
  {
   "cell_type": "markdown",
   "id": "2d5b5e60",
   "metadata": {},
   "source": [
    "#### Polymorphism with Abstract Base Classes\n",
    "Abstract Base Classes (ABCs) are used to define common methods for a group of related objects. They can enforce that derived classes implement particular methods, promoting consistency across different implementations."
   ]
  },
  {
   "cell_type": "code",
   "execution_count": 29,
   "id": "9ae770e9",
   "metadata": {},
   "outputs": [
    {
     "name": "stdout",
     "output_type": "stream",
     "text": [
      "Car started\n",
      "Motorcycle started\n",
      "Car started\n"
     ]
    }
   ],
   "source": [
    "from abc import ABC,abstractmethod\n",
    "#define on abstract class\n",
    "\n",
    "class Vehicle(ABC):\n",
    "  @abstractmethod\n",
    "  def start_engine(self):\n",
    "    return \"vehicle engine Started\"\n",
    "\n",
    "#derived class 1\n",
    "\n",
    "class Car(Vehicle):\n",
    "  def start_engine(self):\n",
    "    return \"Car started\"\n",
    "class MotorCycle(Vehicle):\n",
    "  def start_engine(self):\n",
    "    return \"Motorcycle started\"\n",
    "  \n",
    "#function\n",
    "def print_engine(start):\n",
    "  return f\"{start.start_engine()}\"\n",
    "\n",
    "car = Car()\n",
    "print(car.start_engine())\n",
    "motor = MotorCycle()\n",
    "\n",
    "print(print_engine(motor))\n",
    "print(print_engine(car))\n",
    "\n"
   ]
  },
  {
   "cell_type": "code",
   "execution_count": null,
   "id": "7d7b5b55",
   "metadata": {},
   "outputs": [],
   "source": []
  },
  {
   "cell_type": "code",
   "execution_count": null,
   "id": "57140aba",
   "metadata": {},
   "outputs": [],
   "source": []
  }
 ],
 "metadata": {
  "kernelspec": {
   "display_name": "datasciencevenv",
   "language": "python",
   "name": "python3"
  },
  "language_info": {
   "codemirror_mode": {
    "name": "ipython",
    "version": 3
   },
   "file_extension": ".py",
   "mimetype": "text/x-python",
   "name": "python",
   "nbconvert_exporter": "python",
   "pygments_lexer": "ipython3",
   "version": "3.13.5"
  }
 },
 "nbformat": 4,
 "nbformat_minor": 5
}
