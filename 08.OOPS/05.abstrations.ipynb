{
 "cells": [
  {
   "cell_type": "markdown",
   "id": "ae061673",
   "metadata": {},
   "source": [
    "#### Abstraction\n",
    "Abstraction is the concept of hiding the complex implementation details and showing only the necessary features of an object. This helps in reducing programming complexity and effort."
   ]
  },
  {
   "cell_type": "markdown",
   "id": "7a744e33",
   "metadata": {},
   "source": [
    "@abstractmethod is a empty class come with some defined class and using that empty class we are going to create complex operations thats abstraction"
   ]
  },
  {
   "cell_type": "code",
   "execution_count": 6,
   "id": "4c9fbf98",
   "metadata": {},
   "outputs": [
    {
     "name": "stdout",
     "output_type": "stream",
     "text": [
      "car engine at good condition\n",
      "The vehicle is running\n"
     ]
    }
   ],
   "source": [
    "# need to import ABC(abstract base class) first from abc and abstractmethod also\n",
    "# create a class with parameter of ABC\n",
    "\n",
    "from abc import ABC,abstractmethod\n",
    "\n",
    "class Vehicle(ABC):\n",
    "  def drive(self):\n",
    "    print(\"The vehicle is running\")  # base abstract class\n",
    "\n",
    "  @abstractmethod\n",
    "  def start_engine(self):   # abstractmethod is always empty so just pass the function\n",
    "    pass\n",
    "  \n",
    "class Car(Vehicle):\n",
    "\n",
    "  def start_engine(self):\n",
    "     print(\"car engine at good condition\") # we can return anything using empty abstract method empty\n",
    "\n",
    "\n",
    "def operate_vehicle(vechile):\n",
    "  vechile.start_engine()\n",
    "  vechile.drive()\n",
    "\n",
    "car = Car()\n",
    "operate_vehicle(car)\n"
   ]
  },
  {
   "cell_type": "code",
   "execution_count": null,
   "id": "ce54f089",
   "metadata": {},
   "outputs": [],
   "source": []
  },
  {
   "cell_type": "code",
   "execution_count": null,
   "id": "42089b9c",
   "metadata": {},
   "outputs": [],
   "source": []
  },
  {
   "cell_type": "code",
   "execution_count": null,
   "id": "5d126611",
   "metadata": {},
   "outputs": [],
   "source": []
  },
  {
   "cell_type": "code",
   "execution_count": null,
   "id": "e4368df4",
   "metadata": {},
   "outputs": [],
   "source": []
  },
  {
   "cell_type": "code",
   "execution_count": null,
   "id": "f14042fd",
   "metadata": {},
   "outputs": [],
   "source": []
  }
 ],
 "metadata": {
  "kernelspec": {
   "display_name": "datasciencevenv (3.13.5)",
   "language": "python",
   "name": "python3"
  },
  "language_info": {
   "codemirror_mode": {
    "name": "ipython",
    "version": 3
   },
   "file_extension": ".py",
   "mimetype": "text/x-python",
   "name": "python",
   "nbconvert_exporter": "python",
   "pygments_lexer": "ipython3",
   "version": "3.13.5"
  }
 },
 "nbformat": 4,
 "nbformat_minor": 5
}
