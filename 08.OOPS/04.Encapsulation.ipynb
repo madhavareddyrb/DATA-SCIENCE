{
 "cells": [
  {
   "cell_type": "markdown",
   "id": "a3588e32",
   "metadata": {},
   "source": [
    "### Encapsulation\n",
    "\n",
    "Wrapping data(variables) and methods(functions) together as a single unit.It restricts direct access to some of the objects components.which is acciental interface and misuse of the data"
   ]
  },
  {
   "cell_type": "code",
   "execution_count": null,
   "id": "fda9e9ac",
   "metadata": {},
   "outputs": [
    {
     "name": "stdout",
     "output_type": "stream",
     "text": [
      "madhava\n",
      "madhava\n",
      "22\n"
     ]
    }
   ],
   "source": [
    "#Encapsulation with getter and setter\n",
    "#public,private,protected variables\n",
    "\n",
    "class Person:\n",
    "  def __init__(self,name,age):\n",
    "    self.name = name  #public variable or public access builder\n",
    "    self.age = age    #public variable or public access builder we can access where ever we want\n",
    "\n",
    "def get_name(person):\n",
    "  return person.name\n",
    "\n",
    "person = Person(\"madhava\", 22)\n",
    "print(get_name(person))\n",
    "print(person.name)\n",
    "print(person.age)\n"
   ]
  },
  {
   "cell_type": "code",
   "execution_count": null,
   "id": "1bc9599a",
   "metadata": {},
   "outputs": [
    {
     "data": {
      "text/plain": [
       "['__class__',\n",
       " '__delattr__',\n",
       " '__dict__',\n",
       " '__dir__',\n",
       " '__doc__',\n",
       " '__eq__',\n",
       " '__firstlineno__',\n",
       " '__format__',\n",
       " '__ge__',\n",
       " '__getattribute__',\n",
       " '__getstate__',\n",
       " '__gt__',\n",
       " '__hash__',\n",
       " '__init__',\n",
       " '__init_subclass__',\n",
       " '__le__',\n",
       " '__lt__',\n",
       " '__module__',\n",
       " '__ne__',\n",
       " '__new__',\n",
       " '__reduce__',\n",
       " '__reduce_ex__',\n",
       " '__repr__',\n",
       " '__setattr__',\n",
       " '__sizeof__',\n",
       " '__static_attributes__',\n",
       " '__str__',\n",
       " '__subclasshook__',\n",
       " '__weakref__',\n",
       " 'age',\n",
       " 'name']"
      ]
     },
     "execution_count": 9,
     "metadata": {},
     "output_type": "execute_result"
    }
   ],
   "source": [
    "dir(person) # we can see that variables at last.Thats means variables are public"
   ]
  },
  {
   "cell_type": "code",
   "execution_count": 17,
   "id": "7381b144",
   "metadata": {},
   "outputs": [
    {
     "name": "stdout",
     "output_type": "stream",
     "text": [
      "male\n"
     ]
    },
    {
     "ename": "AttributeError",
     "evalue": "'Person' object has no attribute 'age'",
     "output_type": "error",
     "traceback": [
      "\u001b[31m---------------------------------------------------------------------------\u001b[39m",
      "\u001b[31mAttributeError\u001b[39m                            Traceback (most recent call last)",
      "\u001b[36mCell\u001b[39m\u001b[36m \u001b[39m\u001b[32mIn[17]\u001b[39m\u001b[32m, line 14\u001b[39m\n\u001b[32m     11\u001b[39m person = Person(\u001b[33m'\u001b[39m\u001b[33mmadhava\u001b[39m\u001b[33m'\u001b[39m,\u001b[32m22\u001b[39m,\u001b[33m'\u001b[39m\u001b[33mmale\u001b[39m\u001b[33m'\u001b[39m)\n\u001b[32m     12\u001b[39m \u001b[38;5;28mprint\u001b[39m(person.gender)\n\u001b[32m---> \u001b[39m\u001b[32m14\u001b[39m \u001b[43mperson\u001b[49m\u001b[43m.\u001b[49m\u001b[43mage\u001b[49m \u001b[38;5;66;03m# error object has no attribute age\u001b[39;00m\n\u001b[32m     15\u001b[39m person.name \u001b[38;5;66;03m# error object has no attribute name\u001b[39;00m\n",
      "\u001b[31mAttributeError\u001b[39m: 'Person' object has no attribute 'age'"
     ]
    }
   ],
   "source": [
    "## making variables private so outside function no access\n",
    "class Person:\n",
    "  def __init__(self,name,age,gender):\n",
    "    self.__name = name # __ two underscores is used to make a variable private\n",
    "    self.__age = age   # __ two underscores is used to make a variable private\n",
    "    self.gender = gender # public access builder\n",
    "\n",
    "def get_name(person):\n",
    "  return person.__name\n",
    "\n",
    "person = Person('madhava',22,'male')\n",
    "print(person.gender)\n",
    "\n",
    "person.age # error object has no attribute age\n",
    "person.name # error object has no attribute name\n"
   ]
  },
  {
   "cell_type": "code",
   "execution_count": null,
   "metadata": {},
   "outputs": [
    {
     "data": {
      "text/plain": [
       "['_Person__age',\n",
       " '_Person__name',\n",
       " '__class__',\n",
       " '__delattr__',\n",
       " '__dict__',\n",
       " '__dir__',\n",
       " '__doc__',\n",
       " '__eq__',\n",
       " '__firstlineno__',\n",
       " '__format__',\n",
       " '__ge__',\n",
       " '__getattribute__',\n",
       " '__getstate__',\n",
       " '__gt__',\n",
       " '__hash__',\n",
       " '__init__',\n",
       " '__init_subclass__',\n",
       " '__le__',\n",
       " '__lt__',\n",
       " '__module__',\n",
       " '__ne__',\n",
       " '__new__',\n",
       " '__reduce__',\n",
       " '__reduce_ex__',\n",
       " '__repr__',\n",
       " '__setattr__',\n",
       " '__sizeof__',\n",
       " '__static_attributes__',\n",
       " '__str__',\n",
       " '__subclasshook__',\n",
       " '__weakref__',\n",
       " 'gender']"
      ]
     },
     "execution_count": 16,
     "metadata": {},
     "output_type": "execute_result"
    }
   ],
   "source": [
    "# we can confirm that variables are private or public uisng dir(person)\n",
    "dir(person) # we can see that gender at botton but no name,age beacuse thats are private variables"
   ]
  },
  {
   "cell_type": "markdown",
   "id": "24d47a08",
   "metadata": {},
   "source": [
    "#"
   ]
  },
  {
   "cell_type": "code",
   "execution_count": null,
   "id": "328ecc60",
   "metadata": {},
   "outputs": [
    {
     "data": {
      "text/plain": [
       "'madhava'"
      ]
     },
     "execution_count": 19,
     "metadata": {},
     "output_type": "execute_result"
    }
   ],
   "source": [
    "## Protected Variables example and inherit class has access to protected variables by using\n",
    "# ._variablename\n",
    "class Person:\n",
    "  def __init__(self,name,age,gender):\n",
    "    self._name = name # protected variables\n",
    "    self._age = age # protected variables\n",
    "    self.gender = gender\n",
    "class Employee(Person):\n",
    "  def __init__(self,name,age,gender):\n",
    "    super().__init__(name,age,gender)\n",
    "\n",
    "employee = Employee('madhava',22,'Male')\n",
    "employee._name"
   ]
  },
  {
   "cell_type": "code",
   "execution_count": 44,
   "id": "817c2959",
   "metadata": {},
   "outputs": [
    {
     "name": "stdout",
     "output_type": "stream",
     "text": [
      "madhava\n",
      "22\n",
      "22\n",
      "45\n",
      "45\n",
      "Age cannot be negative\n"
     ]
    }
   ],
   "source": [
    "# Encapsulation using getter and setter\n",
    "class Person:\n",
    "  def __init__(self,name,age):\n",
    "    self.__name = name\n",
    "    self.__age = age\n",
    "\n",
    "  #get name with getter method(using self parameter)\n",
    "  def get_name(self):\n",
    "    return self.__name\n",
    "  \n",
    "  # setter method to get name using parameter (self,name)\n",
    "  def set_name(self,name):\n",
    "    self.__name = name\n",
    "  \n",
    "  # getter method to get age\n",
    "  def get_age(self):\n",
    "    return self.__age\n",
    "  \n",
    "  # setter method to get age\n",
    "  def set_age(self,age):\n",
    "    if age > 0:\n",
    "      self.__age = age\n",
    "      return age\n",
    "    else:\n",
    "      return \"Age cannot be negative\"\n",
    "    \n",
    "person = Person(\"madhava\",22)\n",
    "print(person.get_name())\n",
    "print(person.get_age())\n",
    "print(person.get_age())\n",
    "print(person.set_age(45))\n",
    "print(person.get_age()) # age changes for get also after set age method\n",
    "print(person.set_age(-1))\n",
    "\n",
    "\n"
   ]
  },
  {
   "cell_type": "code",
   "execution_count": null,
   "id": "3f721ffa",
   "metadata": {},
   "outputs": [],
   "source": []
  },
  {
   "cell_type": "code",
   "execution_count": null,
   "id": "f76cdd9a",
   "metadata": {},
   "outputs": [],
   "source": []
  }
 ],
 "metadata": {
  "kernelspec": {
   "display_name": "datasciencevenv",
   "language": "python",
   "name": "python3"
  },
  "language_info": {
   "codemirror_mode": {
    "name": "ipython",
    "version": 3
   },
   "file_extension": ".py",
   "mimetype": "text/x-python",
   "name": "python",
   "nbconvert_exporter": "python",
   "pygments_lexer": "ipython3",
   "version": "3.13.5"
  }
 },
 "nbformat": 4,
 "nbformat_minor": 5
}
