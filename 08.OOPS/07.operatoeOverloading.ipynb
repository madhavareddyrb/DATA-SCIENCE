{
 "cells": [
  {
   "cell_type": "markdown",
   "id": "ad645883",
   "metadata": {},
   "source": [
    "##### Operator Overloading\n",
    "Operator overloading allows you to define the behavior of operators (+, -, *, etc.) for custom objects. You achieve this by overriding specific magic methods in your class."
   ]
  },
  {
   "cell_type": "code",
   "execution_count": null,
   "id": "f4245f1a",
   "metadata": {},
   "outputs": [],
   "source": [
    "#### Common Operator Overloading Magic Methods\n",
    "'''\n",
    "__add__(self, other): Adds two objects using the + operator.\n",
    "__sub__(self, other): Subtracts two objects using the - operator.\n",
    "__mul__(self, other): Multiplies two objects using the * operator.\n",
    "__truediv__(self, other): Divides two objects using the / operator.\n",
    "__eq__(self, other): Checks if two objects are equal using the == operator.\n",
    "__lt__(self, other): Checks if one object is less than another using the < operator.\n",
    "\n",
    "__gt__\n",
    "'''"
   ]
  },
  {
   "cell_type": "code",
   "execution_count": null,
   "id": "9e21da90",
   "metadata": {},
   "outputs": [],
   "source": [
    "class Vector:\n",
    "  def __init__(self,x,y):\n",
    "    self.num1 = x\n",
    "    self.num2 = y\n",
    "\n",
    "  def __add__(self,other):\n",
    "    return Vector(self.x+other.x, self.y+other.y)\n",
    "\n",
    "  def __sub__(self,other):\n",
    "    return Vector(self.x-other.x , self.y-other.y)\n",
    "\n",
    "  def __mul__(self,other )"
   ]
  },
  {
   "cell_type": "code",
   "execution_count": null,
   "id": "8b4ec4a8",
   "metadata": {},
   "outputs": [],
   "source": []
  },
  {
   "cell_type": "code",
   "execution_count": null,
   "id": "8cb1222d",
   "metadata": {},
   "outputs": [],
   "source": []
  }
 ],
 "metadata": {
  "kernelspec": {
   "display_name": "datasciencevenv (3.13.5)",
   "language": "python",
   "name": "python3"
  },
  "language_info": {
   "name": "python",
   "version": "3.13.5"
  }
 },
 "nbformat": 4,
 "nbformat_minor": 5
}
