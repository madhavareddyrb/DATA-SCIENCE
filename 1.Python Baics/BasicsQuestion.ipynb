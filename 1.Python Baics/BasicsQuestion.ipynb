{
 "cells": [
  {
   "cell_type": "markdown",
   "metadata": {},
   "source": [
    "Lesson 1.2: Python Basics\n",
    "#Topics Covered:\n",
    "- Syntax and Semantics\n",
    "- Variables and Data Types\n",
    "- Basic Operators (Arithmetic, Comparison, Logical)\n"
   ]
  },
  {
   "cell_type": "markdown",
   "metadata": {},
   "source": [
    "## 1. Syntax and Semantics\n",
    "\n",
    "**Question 1:** Write a Python program to print \"Hello, World!\"."
   ]
  },
  {
   "cell_type": "code",
   "execution_count": 10,
   "metadata": {},
   "outputs": [
    {
     "name": "stdout",
     "output_type": "stream",
     "text": [
      "Hello, World!\n"
     ]
    }
   ],
   "source": [
    "# Your code here\n",
    "print(\"Hello, World!\")"
   ]
  },
  {
   "cell_type": "markdown",
   "metadata": {},
   "source": [
    "**Question 2:** Write a Python program that takes a user input and prints it."
   ]
  },
  {
   "cell_type": "code",
   "execution_count": 11,
   "metadata": {},
   "outputs": [
    {
     "name": "stdout",
     "output_type": "stream",
     "text": [
      "madhava\n"
     ]
    }
   ],
   "source": [
    "# Your code here\n",
    "name = str(input(\"enter your name: \"))\n",
    "print(name)"
   ]
  },
  {
   "cell_type": "markdown",
   "metadata": {},
   "source": [
    "**Question 3:** Write a Python program to check if a number is positive, negative, or zero."
   ]
  },
  {
   "cell_type": "code",
   "execution_count": 12,
   "metadata": {},
   "outputs": [
    {
     "name": "stdout",
     "output_type": "stream",
     "text": [
      "10 is positive\n"
     ]
    }
   ],
   "source": [
    "# Your code here\n",
    "number = int(input(\"Enter number: \"))\n",
    "if number > 0:\n",
    "    print(f'{number} is positive')\n",
    "elif number < 0:\n",
    "    print(f\"{number} is negative\")\n",
    "else:\n",
    "    print(f\"{number} is zero\")\n"
   ]
  },
  {
   "cell_type": "markdown",
   "metadata": {},
   "source": [
    "**Question 4:** Write a Python program to find the largest of three numbers."
   ]
  },
  {
   "cell_type": "code",
   "execution_count": 13,
   "metadata": {},
   "outputs": [
    {
     "name": "stdout",
     "output_type": "stream",
     "text": [
      "112 is greater than 100,20\n"
     ]
    }
   ],
   "source": [
    "# Your code here\n",
    "num1 = 100\n",
    "num2 = 112\n",
    "num3 = 20\n",
    "if num1 > num2 and num1 > num3:\n",
    "    print(f\"{num1} is greater than {num2},{num3}\")\n",
    "elif num2 > num1 and num2 > num3:\n",
    "    print(f\"{num2} is greater than {num1},{num3}\")\n",
    "else:\n",
    "    print(f\"{num3} is greater than {num1},{num2}\")"
   ]
  },
  {
   "cell_type": "markdown",
   "metadata": {},
   "source": [
    "**Question 5:** Write a Python program to calculate the factorial of a number."
   ]
  },
  {
   "cell_type": "code",
   "execution_count": 27,
   "metadata": {},
   "outputs": [
    {
     "name": "stdout",
     "output_type": "stream",
     "text": [
      "120\n"
     ]
    }
   ],
   "source": [
    "# Your code here\n",
    "def factrial(num):\n",
    "  if num == 0:\n",
    "    return 1\n",
    "  else:\n",
    "    return num * factrial(num-1)\n",
    "num = 5\n",
    "print(factrial(num))\n"
   ]
  },
  {
   "cell_type": "markdown",
   "metadata": {},
   "source": [
    "## 2. Variables and Data Types\n",
    "\n",
    "**Question 6:** Create variables of different data types: integer, float, string, and boolean. Print their values and types."
   ]
  },
  {
   "cell_type": "code",
   "execution_count": 15,
   "metadata": {},
   "outputs": [
    {
     "name": "stdout",
     "output_type": "stream",
     "text": [
      "madhava <class 'str'>\n",
      "19 <class 'int'>\n",
      "29.99 <class 'float'>\n",
      "True <class 'bool'>\n"
     ]
    }
   ],
   "source": [
    "# Your code here\n",
    "name = \"madhava\"\n",
    "num = 19\n",
    "floatValue = 29.99\n",
    "booleanV = True\n",
    "print(name, type(name))\n",
    "print(num, type(num))\n",
    "print(floatValue, type(floatValue))\n",
    "print(booleanV, type(booleanV))"
   ]
  },
  {
   "cell_type": "markdown",
   "metadata": {},
   "source": [
    "**Question 7:** Write a Python program to swap the values of two variables."
   ]
  },
  {
   "cell_type": "code",
   "execution_count": 16,
   "metadata": {},
   "outputs": [
    {
     "name": "stdout",
     "output_type": "stream",
     "text": [
      "20 10\n"
     ]
    }
   ],
   "source": [
    "# Your code here\n",
    "a = 10\n",
    "b = 20\n",
    "a,b = b,a\n",
    "print(a,b)"
   ]
  },
  {
   "cell_type": "markdown",
   "metadata": {},
   "source": [
    "**Question 8:** Write a Python program to convert Celsius to Fahrenheit."
   ]
  },
  {
   "cell_type": "code",
   "execution_count": 17,
   "metadata": {},
   "outputs": [
    {
     "name": "stdout",
     "output_type": "stream",
     "text": [
      "32.0\n"
     ]
    }
   ],
   "source": [
    "# Your code here\n",
    "choose = input(\"Enter Your Unit to convert: \")\n",
    "\n",
    "temprature = 0\n",
    "if choose == 'C' :\n",
    "    converttoFa = (temprature * 9/5) + 32\n",
    "    print(converttoFa)\n",
    "elif choose == \"F\" :\n",
    "    convertToC = (temprature - 32) * 5/9\n",
    "    print(convertToC)\n",
    "else:\n",
    "    print('choose between \"c\" or \"F\"')\n",
    "    \n"
   ]
  },
  {
   "cell_type": "markdown",
   "metadata": {},
   "source": [
    "**Question 9:** Write a Python program to concatenate two strings."
   ]
  },
  {
   "cell_type": "code",
   "execution_count": 18,
   "metadata": {},
   "outputs": [
    {
     "name": "stdout",
     "output_type": "stream",
     "text": [
      "abcdef\n"
     ]
    }
   ],
   "source": [
    "# Your code here\n",
    "a = 'abc'\n",
    "b = 'def'\n",
    "c = a+b\n",
    "print(c)"
   ]
  },
  {
   "cell_type": "markdown",
   "metadata": {},
   "source": [
    "**Question 10:** Write a Python program to check if a variable is of a specific data type."
   ]
  },
  {
   "cell_type": "code",
   "execution_count": 19,
   "metadata": {},
   "outputs": [
    {
     "name": "stdout",
     "output_type": "stream",
     "text": [
      "20 <class 'str'>\n",
      "20 <class 'str'>\n",
      "always string\n",
      "num3 :  <class 'int'>\n"
     ]
    }
   ],
   "source": [
    "# Your code here\n",
    "num = input(\"Enter number\")\n",
    "print(num,type(num)) #always a string\n",
    "\n",
    "num1 = input(\"Enter number\")\n",
    "print(num,type(num1))\n",
    "\n",
    "if num1 == int:\n",
    "    print('num1 is integer')\n",
    "else:\n",
    "    print('always string')\n",
    "\n",
    "\n",
    "#to convert\n",
    "num3 = int(input(\"Enter your num3: \"))\n",
    "print('num3 : ',type(num3))"
   ]
  },
  {
   "cell_type": "markdown",
   "metadata": {},
   "source": [
    "## 3. Basic Operators (Arithmetic, Comparison, Logical)\n",
    "\n",
    "**Question 11:** Write a Python program to perform arithmetic operations: addition, subtraction, multiplication, and division."
   ]
  },
  {
   "cell_type": "code",
   "execution_count": 20,
   "metadata": {},
   "outputs": [
    {
     "name": "stdout",
     "output_type": "stream",
     "text": [
      "20\n"
     ]
    }
   ],
   "source": [
    "# Your code here\n",
    "operators = input(\"chooese between one (+,-,*,/): \")\n",
    "num1 = 10\n",
    "num2 = 10\n",
    "if operators == '+':\n",
    "  result = num1+num2\n",
    "elif operators == '-':\n",
    "  result = num1-num2\n",
    "elif operators == '*':\n",
    "  result = num1*num2\n",
    "elif operators == '/':\n",
    "  result = num1/num2\n",
    "else:\n",
    "  result = \"Please choose correct operator(+,-,*,/)\"\n",
    "print(result)\n"
   ]
  },
  {
   "cell_type": "markdown",
   "metadata": {},
   "source": [
    "**Question 12:** Write a Python program to demonstrate comparison operators: equal to, not equal to, greater than, less than."
   ]
  },
  {
   "cell_type": "code",
   "execution_count": 21,
   "metadata": {},
   "outputs": [
    {
     "name": "stdout",
     "output_type": "stream",
     "text": [
      "10 == 20: False\n",
      "10 != 20: True\n",
      "10 > 20: False\n",
      "10 < 20: True\n"
     ]
    },
    {
     "data": {
      "text/plain": [
       "'if number1 == number2:\\n  print(f\"number1: {number1} and number2: {number2} are same. equal comparison operator tells that both values are same or equal\")\\nelif number1 != number2:\\n  print(f\"number1: {number1} is not equal to number2 :{number2} comparison operator tell that both values are different\")\\nelif number > number2:\\n  print(f\"number1: {number1} greater than number2: {number2} comparison operator tell that both values are different\")\\nelif number1 < number2:\\n  print(f\"number1: {number1} less than number2: {number2} comparison operator tell that both values are different\")\\nelse:\\n  print(\"NOne\")'"
      ]
     },
     "execution_count": 21,
     "metadata": {},
     "output_type": "execute_result"
    }
   ],
   "source": [
    "# Your code here\n",
    "# we are taking 2 numbers and we will talk about comparison operators\n",
    "number1 = int(input(\"Enter Number1: \"))\n",
    "number2 = int(input(\"Enter Number2: \"))\n",
    "\n",
    "print(f\"{number1} == {number2}: {number1 == number2}\")\n",
    "print(f\"{number1} != {number2}: {number1 != number2}\")\n",
    "print(f\"{number1} > {number2}: {number1 > number2}\")\n",
    "print(f\"{number1} < {number2}: {number1 < number2}\")\n",
    "\n",
    "\n",
    "'''if number1 == number2:\n",
    "  print(f\"number1: {number1} and number2: {number2} are same. equal comparison operator tells that both values are same or equal\")\n",
    "elif number1 != number2:\n",
    "  print(f\"number1: {number1} is not equal to number2 :{number2} comparison operator tell that both values are different\")\n",
    "elif number > number2:\n",
    "  print(f\"number1: {number1} greater than number2: {number2} comparison operator tell that both values are different\")\n",
    "elif number1 < number2:\n",
    "  print(f\"number1: {number1} less than number2: {number2} comparison operator tell that both values are different\")\n",
    "else:\n",
    "  print(\"NOne\")'''\n",
    "  "
   ]
  },
  {
   "cell_type": "markdown",
   "metadata": {},
   "source": [
    "**Question 13:** Write a Python program to demonstrate logical operators: and, or, not."
   ]
  },
  {
   "cell_type": "code",
   "execution_count": 22,
   "metadata": {},
   "outputs": [
    {
     "name": "stdout",
     "output_type": "stream",
     "text": [
      "True and False: False\n",
      "True or False: True\n",
      "not true: False\n"
     ]
    }
   ],
   "source": [
    "# Your code here\n",
    "a = True\n",
    "b = False\n",
    "\n",
    "print(f\"True and False: {a and b}\") # both must be true values\n",
    "print(f\"True or False: {a or b}\") # one value is enough to become True\n",
    "print(f\"not true: {not a}\") # True chnages to Flase vaise varsa"
   ]
  },
  {
   "cell_type": "markdown",
   "metadata": {},
   "source": [
    "**Question 14:** Write a Python program to calculate the square of a number."
   ]
  },
  {
   "cell_type": "code",
   "execution_count": 24,
   "metadata": {},
   "outputs": [
    {
     "name": "stdout",
     "output_type": "stream",
     "text": [
      "The square of 2.0 is : 4.0\n"
     ]
    }
   ],
   "source": [
    "# Your code here\n",
    "number = float(input('enter number: '))\n",
    "square = number ** 2\n",
    "print(f\"The square of {number} is : {square}\")\n"
   ]
  },
  {
   "cell_type": "markdown",
   "metadata": {},
   "source": [
    "**Question 15:** Write a Python program to check if a number is even or odd."
   ]
  },
  {
   "cell_type": "code",
   "execution_count": null,
   "metadata": {},
   "outputs": [
    {
     "name": "stdout",
     "output_type": "stream",
     "text": [
      "even\n"
     ]
    }
   ],
   "source": [
    "# Your code here\n",
    "number = 10\n",
    "if number % 2 == 0:\n",
    "  print(\"even\")\n",
    "else:\n",
    "  print('odd')"
   ]
  },
  {
   "cell_type": "markdown",
   "metadata": {},
   "source": [
    "**Question 16:** Write a Python program to find the sum of the first n natural numbers."
   ]
  },
  {
   "cell_type": "code",
   "execution_count": null,
   "metadata": {},
   "outputs": [
    {
     "name": "stdout",
     "output_type": "stream",
     "text": [
      "15\n"
     ]
    }
   ],
   "source": [
    "# Your code here\n",
    "numbers = 5\n",
    "sum = 0\n",
    "for i in range(1,numbers+1):\n",
    "  sum += i\n",
    "print(sum)"
   ]
  },
  {
   "cell_type": "markdown",
   "metadata": {},
   "source": [
    "**Question 17:** Write a Python program to check if a year is a leap year."
   ]
  },
  {
   "cell_type": "code",
   "execution_count": null,
   "metadata": {},
   "outputs": [
    {
     "name": "stdout",
     "output_type": "stream",
     "text": [
      "2000 is a leap year\n"
     ]
    }
   ],
   "source": [
    "# Your code here\n",
    "year = int(input(\"enetr your year: \"))\n",
    "if (year % 4 == 0 and year % 100 != 0) or (year % 400 == 0) :\n",
    "  print(f\"{year} is a leap year\")\n",
    "else:\n",
    "  print(f\"{year} is not a leap year\")"
   ]
  },
  {
   "cell_type": "markdown",
   "metadata": {},
   "source": [
    "**Question 18:** Write a Python program to reverse a string."
   ]
  },
  {
   "cell_type": "code",
   "execution_count": null,
   "metadata": {},
   "outputs": [
    {
     "name": "stdout",
     "output_type": "stream",
     "text": [
      "reversse of string avahdam\n"
     ]
    }
   ],
   "source": [
    "# Your code here\n",
    "name = \"madhava\"\n",
    "print(f\"reversse of string {name[::-1]}\")"
   ]
  },
  {
   "cell_type": "markdown",
   "metadata": {},
   "source": [
    "**Question 19:** Write a Python program to check if a string is a palindrome."
   ]
  },
  {
   "cell_type": "code",
   "execution_count": null,
   "metadata": {},
   "outputs": [
    {
     "name": "stdout",
     "output_type": "stream",
     "text": [
      "madama is not a pallindrome\n"
     ]
    }
   ],
   "source": [
    "# Your code here\n",
    "name = 'madama'\n",
    "if name == name[::-1]:\n",
    "  print(f\"{name} is a palindrome\")\n",
    "else:\n",
    "  print(f\"{name} is not a pallindrome\")"
   ]
  },
  {
   "cell_type": "markdown",
   "metadata": {},
   "source": [
    "**Question 20:** Write a Python program to sort a list of numbers in ascending order."
   ]
  },
  {
   "cell_type": "code",
   "execution_count": null,
   "metadata": {},
   "outputs": [
    {
     "name": "stdout",
     "output_type": "stream",
     "text": [
      "[17, 36, 46, 69, 76, 566]\n"
     ]
    }
   ],
   "source": [
    "# Your code here\n",
    "numbers = [17,76,36,46,566,69]\n",
    "numbers.sort()\n",
    "print(numbers)"
   ]
  },
  {
   "cell_type": "code",
   "execution_count": null,
   "metadata": {},
   "outputs": [],
   "source": []
  }
 ],
 "metadata": {
  "kernelspec": {
   "display_name": "dataven",
   "language": "python",
   "name": "python3"
  },
  "language_info": {
   "codemirror_mode": {
    "name": "ipython",
    "version": 3
   },
   "file_extension": ".py",
   "mimetype": "text/x-python",
   "name": "python",
   "nbconvert_exporter": "python",
   "pygments_lexer": "ipython3",
   "version": "3.13.1"
  },
  "widgets": {
   "application/vnd.jupyter.widget-state+json": {
    "state": {},
    "version_major": 2,
    "version_minor": 0
   }
  }
 },
 "nbformat": 4,
 "nbformat_minor": 4
}
