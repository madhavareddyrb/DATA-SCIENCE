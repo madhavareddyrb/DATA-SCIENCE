{
 "cells": [
  {
   "cell_type": "markdown",
   "metadata": {},
   "source": [
    "## Module 4: Advanced Functions Assignments\n",
    "### Lesson 4.1: Defining Functions\n",
    "#### Assignment 1: Fibonacci Sequence with Memoization\n",
    "\n",
    "Define a recursive function to calculate the nth Fibonacci number using memoization. Test the function with different inputs.\n"
   ]
  },
  {
   "cell_type": "code",
   "execution_count": 6,
   "metadata": {},
   "outputs": [
    {
     "data": {
      "text/plain": [
       "55"
      ]
     },
     "execution_count": 6,
     "metadata": {},
     "output_type": "execute_result"
    }
   ],
   "source": [
    "def fibonacci(n,memo={}):\n",
    "  if n in memo:\n",
    "    return memo[n]\n",
    "  if n <=1:\n",
    "    return n\n",
    "  memo[n] = fibonacci(n-1,memo) + fibonacci(n-2,memo)\n",
    "  return memo[n]\n",
    "\n",
    "fibonacci(10)\n",
    "  "
   ]
  },
  {
   "cell_type": "markdown",
   "id": "b25d6c66",
   "metadata": {},
   "source": [
    "### Assignment 2: Function with Nested Default Arguments\n",
    "\n",
    "Define a function that takes two arguments, a and b, where b is a dictionary with a default value of an empty dictionary. The function should add a new key-value pair to the dictionary and return it. Test the function with different inputs."
   ]
  },
  {
   "cell_type": "code",
   "execution_count": null,
   "id": "f22e7b52",
   "metadata": {},
   "outputs": [
    {
     "name": "stdout",
     "output_type": "stream",
     "text": [
      "{1: 2, 3: 9}\n"
     ]
    },
    {
     "data": {
      "text/plain": [
       "{2: 4}"
      ]
     },
     "execution_count": 9,
     "metadata": {},
     "output_type": "execute_result"
    }
   ],
   "source": [
    "def add_to_dict(a,b=None):\n",
    "  if b is None:\n",
    "    b = {}\n",
    "  b[a] = a**2\n",
    "  return b\n",
    "print(add_to_dict(3,{1:2})) # one dict is {1:2} another is 3**2 = 9 {3:9}\n",
    "add_to_dict(2) # 2**2 = 4\n"
   ]
  },
  {
   "cell_type": "markdown",
   "id": "93e86870",
   "metadata": {},
   "source": [
    "### Assignment 3: Function with Variable Keyword Arguments\n",
    "\n",
    "Define a function that takes a variable number of keyword arguments and returns a dictionary containing only those key-value pairs where the value is an integer. Test the function with different inputs."
   ]
  },
  {
   "cell_type": "code",
   "execution_count": null,
   "id": "68276df5",
   "metadata": {},
   "outputs": [],
   "source": [
    "# *kargs\n",
    "\n"
   ]
  },
  {
   "cell_type": "markdown",
   "id": "e2daceea",
   "metadata": {},
   "source": [
    "### Assignment 4: Function with Callback\n",
    "\n",
    "Define a function that takes another function as a callback and a list of integers. The function should apply the callback to each integer in the list and return a new list with the results. Test with different callback functions."
   ]
  },
  {
   "cell_type": "code",
   "execution_count": null,
   "id": "afa6b796",
   "metadata": {},
   "outputs": [
    {
     "ename": "NameError",
     "evalue": "name 'innerFun' is not defined",
     "output_type": "error",
     "traceback": [
      "\u001b[31m---------------------------------------------------------------------------\u001b[39m",
      "\u001b[31mNameError\u001b[39m                                 Traceback (most recent call last)",
      "\u001b[36mCell\u001b[39m\u001b[36m \u001b[39m\u001b[32mIn[3]\u001b[39m\u001b[32m, line 9\u001b[39m\n\u001b[32m      7\u001b[39m lst = [\u001b[32m1\u001b[39m,\u001b[32m2\u001b[39m,\u001b[32m3\u001b[39m,\u001b[32m4\u001b[39m,\u001b[32m5\u001b[39m]\n\u001b[32m      8\u001b[39m outerFun(lst)\n\u001b[32m----> \u001b[39m\u001b[32m9\u001b[39m \u001b[43minnerFun\u001b[49m(lst)\n",
      "\u001b[31mNameError\u001b[39m: name 'innerFun' is not defined"
     ]
    }
   ],
   "source": [
    "def outerFun(callback,x):\n",
    "  return [callback(i) for i in x]\n",
    "\n"
   ]
  },
  {
   "cell_type": "markdown",
   "id": "23c19df0",
   "metadata": {},
   "source": []
  }
 ],
 "metadata": {
  "kernelspec": {
   "display_name": "datasciencevenv (3.13.5)",
   "language": "python",
   "name": "python3"
  },
  "language_info": {
   "codemirror_mode": {
    "name": "ipython",
    "version": 3
   },
   "file_extension": ".py",
   "mimetype": "text/x-python",
   "name": "python",
   "nbconvert_exporter": "python",
   "pygments_lexer": "ipython3",
   "version": "3.13.5"
  }
 },
 "nbformat": 4,
 "nbformat_minor": 5
}
